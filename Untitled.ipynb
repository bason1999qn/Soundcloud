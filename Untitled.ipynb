{
 "cells": [
  {
   "cell_type": "code",
   "execution_count": 21,
   "metadata": {},
   "outputs": [],
   "source": [
    "import pandas as pd\n",
    "import numpy as np"
   ]
  },
  {
   "cell_type": "code",
   "execution_count": 42,
   "metadata": {
    "scrolled": true
   },
   "outputs": [
    {
     "data": {
      "text/html": [
       "<div>\n",
       "<style scoped>\n",
       "    .dataframe tbody tr th:only-of-type {\n",
       "        vertical-align: middle;\n",
       "    }\n",
       "\n",
       "    .dataframe tbody tr th {\n",
       "        vertical-align: top;\n",
       "    }\n",
       "\n",
       "    .dataframe thead th {\n",
       "        text-align: right;\n",
       "    }\n",
       "</style>\n",
       "<table border=\"1\" class=\"dataframe\">\n",
       "  <thead>\n",
       "    <tr style=\"text-align: right;\">\n",
       "      <th></th>\n",
       "      <th>Track name</th>\n",
       "      <th>Track link</th>\n",
       "      <th>User name</th>\n",
       "      <th>User link</th>\n",
       "      <th>Play count</th>\n",
       "      <th>Duration</th>\n",
       "    </tr>\n",
       "  </thead>\n",
       "  <tbody>\n",
       "    <tr>\n",
       "      <th>0</th>\n",
       "      <td>Zara Larsson - Uncover (Millesim Remix)</td>\n",
       "      <td>https://soundcloud.com/millesimofficial/zara-l...</td>\n",
       "      <td>Millesim</td>\n",
       "      <td>https://soundcloud.com/millesimofficial</td>\n",
       "      <td>None</td>\n",
       "      <td>3:54</td>\n",
       "    </tr>\n",
       "    <tr>\n",
       "      <th>1</th>\n",
       "      <td>The Chainsmokers Ft. GGFO - Let You Go (Aash M...</td>\n",
       "      <td>https://soundcloud.com/aash-mehta/let-you-go?i...</td>\n",
       "      <td>Aash Mehta</td>\n",
       "      <td>https://soundcloud.com/aash-mehta</td>\n",
       "      <td>8.78M</td>\n",
       "      <td>5:12</td>\n",
       "    </tr>\n",
       "    <tr>\n",
       "      <th>2</th>\n",
       "      <td>Birds Fly (Commentary Bonus Version) [feat. Mr...</td>\n",
       "      <td>https://soundcloud.com/hardwell/hardwell-feat-...</td>\n",
       "      <td>HARDWELL</td>\n",
       "      <td>https://soundcloud.com/hardwell</td>\n",
       "      <td>6.6M</td>\n",
       "      <td>None</td>\n",
       "    </tr>\n",
       "    <tr>\n",
       "      <th>3</th>\n",
       "      <td>KDrew - Tonight (GRMM Remix)</td>\n",
       "      <td>https://soundcloud.com/hegemon/kdrew-tonight-g...</td>\n",
       "      <td>Hegemon Select</td>\n",
       "      <td>https://soundcloud.com/hegemon</td>\n",
       "      <td>6.94M</td>\n",
       "      <td>4:03</td>\n",
       "    </tr>\n",
       "    <tr>\n",
       "      <th>4</th>\n",
       "      <td>The Light (Acoustic Version)</td>\n",
       "      <td>https://soundcloud.com/armadamusic/disco-fries...</td>\n",
       "      <td>Armada Music</td>\n",
       "      <td>https://soundcloud.com/armadamusic</td>\n",
       "      <td>5.5M</td>\n",
       "      <td>3:20</td>\n",
       "    </tr>\n",
       "  </tbody>\n",
       "</table>\n",
       "</div>"
      ],
      "text/plain": [
       "                                          Track name  \\\n",
       "0            Zara Larsson - Uncover (Millesim Remix)   \n",
       "1  The Chainsmokers Ft. GGFO - Let You Go (Aash M...   \n",
       "2  Birds Fly (Commentary Bonus Version) [feat. Mr...   \n",
       "3                       KDrew - Tonight (GRMM Remix)   \n",
       "4                       The Light (Acoustic Version)   \n",
       "\n",
       "                                          Track link       User name  \\\n",
       "0  https://soundcloud.com/millesimofficial/zara-l...        Millesim   \n",
       "1  https://soundcloud.com/aash-mehta/let-you-go?i...      Aash Mehta   \n",
       "2  https://soundcloud.com/hardwell/hardwell-feat-...        HARDWELL   \n",
       "3  https://soundcloud.com/hegemon/kdrew-tonight-g...  Hegemon Select   \n",
       "4  https://soundcloud.com/armadamusic/disco-fries...    Armada Music   \n",
       "\n",
       "                                 User link Play count Duration  \n",
       "0  https://soundcloud.com/millesimofficial       None     3:54  \n",
       "1        https://soundcloud.com/aash-mehta      8.78M     5:12  \n",
       "2          https://soundcloud.com/hardwell       6.6M     None  \n",
       "3           https://soundcloud.com/hegemon      6.94M     4:03  \n",
       "4       https://soundcloud.com/armadamusic       5.5M     3:20  "
      ]
     },
     "execution_count": 42,
     "metadata": {},
     "output_type": "execute_result"
    }
   ],
   "source": [
    "df_track = pd.read_csv(\"track.csv\", sep = '\\t')\n",
    "df_track.head()"
   ]
  },
  {
   "cell_type": "markdown",
   "metadata": {},
   "source": [
    "- Số dòng, số cột:"
   ]
  },
  {
   "cell_type": "code",
   "execution_count": 61,
   "metadata": {},
   "outputs": [
    {
     "data": {
      "text/plain": [
       "(10827, 6)"
      ]
     },
     "execution_count": 61,
     "metadata": {},
     "output_type": "execute_result"
    }
   ],
   "source": [
    "df_track.shape"
   ]
  },
  {
   "cell_type": "markdown",
   "metadata": {},
   "source": [
    "- Thông tin dữ liệu:"
   ]
  },
  {
   "cell_type": "code",
   "execution_count": 62,
   "metadata": {
    "scrolled": true
   },
   "outputs": [
    {
     "name": "stdout",
     "output_type": "stream",
     "text": [
      "<class 'pandas.core.frame.DataFrame'>\n",
      "RangeIndex: 10827 entries, 0 to 10826\n",
      "Data columns (total 6 columns):\n",
      " #   Column      Non-Null Count  Dtype \n",
      "---  ------      --------------  ----- \n",
      " 0   Track name  10827 non-null  object\n",
      " 1   Track link  10827 non-null  object\n",
      " 2   User name   10827 non-null  object\n",
      " 3   User link   10827 non-null  object\n",
      " 4   Play count  10774 non-null  object\n",
      " 5   Duration    10827 non-null  object\n",
      "dtypes: object(6)\n",
      "memory usage: 507.6+ KB\n"
     ]
    }
   ],
   "source": [
    "df_track.info()"
   ]
  },
  {
   "cell_type": "markdown",
   "metadata": {},
   "source": [
    "(Dữ liêu \"Play count\" bị thiếu vì trong lúc khai thác dữ liệu quy định nếu không xuất hiện thông tin thì trả về None)"
   ]
  },
  {
   "cell_type": "markdown",
   "metadata": {},
   "source": [
    "- Chuyển định dạng số ở cột Play count:"
   ]
  },
  {
   "cell_type": "code",
   "execution_count": 75,
   "metadata": {},
   "outputs": [],
   "source": [
    "df = df_track.copy()"
   ]
  },
  {
   "cell_type": "markdown",
   "metadata": {},
   "source": [
    "- Xóa đi những dòng bị thiếu dữ liệu:"
   ]
  },
  {
   "cell_type": "code",
   "execution_count": 76,
   "metadata": {
    "scrolled": true
   },
   "outputs": [
    {
     "name": "stdout",
     "output_type": "stream",
     "text": [
      "<class 'pandas.core.frame.DataFrame'>\n",
      "Int64Index: 9931 entries, 1 to 10826\n",
      "Data columns (total 6 columns):\n",
      " #   Column      Non-Null Count  Dtype \n",
      "---  ------      --------------  ----- \n",
      " 0   Track name  9931 non-null   object\n",
      " 1   Track link  9931 non-null   object\n",
      " 2   User name   9931 non-null   object\n",
      " 3   User link   9931 non-null   object\n",
      " 4   Play count  9931 non-null   object\n",
      " 5   Duration    9931 non-null   object\n",
      "dtypes: object(6)\n",
      "memory usage: 543.1+ KB\n"
     ]
    }
   ],
   "source": [
    "df.dropna(axis=0, inplace=True)\n",
    "df = df.mask(df.eq('None')).dropna()\n",
    "df.info()"
   ]
  },
  {
   "cell_type": "markdown",
   "metadata": {},
   "source": [
    "- Chuyển định dạng thuộc tính số lượt nghe(Play count) sang dạng int:"
   ]
  },
  {
   "cell_type": "code",
   "execution_count": 77,
   "metadata": {},
   "outputs": [],
   "source": [
    "df[\"Play count\"] = df[\"Play count\"].apply(lambda x: x.replace(',', ''))\n",
    "\n",
    "df[\"Play count\"] = df[\"Play count\"].replace({'K': '*1e3', 'M': '*1e6'}, regex=True).map(pd.eval).astype(int)"
   ]
  },
  {
   "cell_type": "code",
   "execution_count": null,
   "metadata": {},
   "outputs": [],
   "source": [
    "def top10_total_death_recovered(dataframe):\n",
    "    dataframe = dataframe.head(10)[['TotalCases', 'TotalDeaths', 'TotalRecovered']]\n",
    "    dataframe.plot(kind='bar', figsize=(10, 10))\n",
    "    plt.xticks(rotation=45)\n",
    "\n",
    "    plt.show()"
   ]
  }
 ],
 "metadata": {
  "kernelspec": {
   "display_name": "Python 3",
   "language": "python",
   "name": "python3"
  },
  "language_info": {
   "codemirror_mode": {
    "name": "ipython",
    "version": 3
   },
   "file_extension": ".py",
   "mimetype": "text/x-python",
   "name": "python",
   "nbconvert_exporter": "python",
   "pygments_lexer": "ipython3",
   "version": "3.7.6"
  }
 },
 "nbformat": 4,
 "nbformat_minor": 4
}
