{
 "cells": [
  {
   "cell_type": "markdown",
   "metadata": {},
   "source": [
    "\n",
    "<font size=\"5\">**<center> ĐỒ ÁN 01 </center>** </font>\n",
    "\n",
    "<font size=\"4\">**<center> Thu nhập dữ liệu & EDA </center>** </font>\n",
    "\n",
    "> Họ tên: Thái Bá Sơn\n",
    "\n",
    "> MSSV: 1712732"
   ]
  },
  {
   "cell_type": "markdown",
   "metadata": {},
   "source": [
    "# I/ Dữ liệu"
   ]
  },
  {
   "cell_type": "markdown",
   "metadata": {},
   "source": [
    "### Thông tin về dữ liệu:"
   ]
  },
  {
   "cell_type": "markdown",
   "metadata": {},
   "source": [
    "Dữ liệu được khai thác từ trang chủ Soundcloud. Thu thập các thông tin về track, user và playlist bằng phương pháp parse HTML.  \n",
    "\n",
    "**Nguồn:** dữ liệu được khai thác [tại đây](https://www.soundcloud.com)"
   ]
  },
  {
   "cell_type": "markdown",
   "metadata": {},
   "source": [
    "# II/ Khám phá dữ liệu:"
   ]
  },
  {
   "cell_type": "markdown",
   "metadata": {},
   "source": [
    "## 1/ Thu thập dữ liệu:"
   ]
  },
  {
   "cell_type": "markdown",
   "metadata": {},
   "source": [
    "### Import"
   ]
  },
  {
   "cell_type": "code",
   "execution_count": 133,
   "metadata": {},
   "outputs": [],
   "source": [
    "import requests\n",
    "import json\n",
    "import time # Dùng để sleep chương trình\n",
    "import pandas as pd # Dùng để đọc và hiển thị file csv \n",
    "import datetime as dt # Dùng để xử lý dữ liệu thời gian\n",
    "import re\n",
    "import soundcloud\n",
    "import logging\n",
    "import random\n",
    "import numpy as np\n",
    "%matplotlib inline\n",
    "import matplotlib.pyplot as plt\n",
    "import matplotlib.colors\n",
    "import seaborn as sns\n",
    "#Import thư viện:\n",
    "from selenium.webdriver.common.keys import Keys\n",
    "from selenium import webdriver\n",
    "from webdriver_manager.chrome import ChromeDriverManager\n",
    "from selenium.common.exceptions import NoSuchElementException"
   ]
  },
  {
   "cell_type": "markdown",
   "metadata": {},
   "source": [
    "### a/ API:"
   ]
  },
  {
   "cell_type": "markdown",
   "metadata": {},
   "source": [
    "Vì Soundcloud đã ngưng cấp phép cho việc khai thác API nên không khai thác được."
   ]
  },
  {
   "cell_type": "markdown",
   "metadata": {},
   "source": [
    "### b/ parse HTML:"
   ]
  },
  {
   "cell_type": "markdown",
   "metadata": {},
   "source": [
    "- Sử dụng thư viện selenium tương tác với trang chủ Soundcloud để lấy thông tin về link các playlist:"
   ]
  },
  {
   "cell_type": "code",
   "execution_count": 2,
   "metadata": {
    "scrolled": false
   },
   "outputs": [
    {
     "name": "stderr",
     "output_type": "stream",
     "text": [
      "[WDM] - Current google-chrome version is 86.0.4240\n",
      "[WDM] - Get LATEST driver version for 86.0.4240\n"
     ]
    },
    {
     "name": "stdout",
     "output_type": "stream",
     "text": [
      " \n"
     ]
    },
    {
     "name": "stderr",
     "output_type": "stream",
     "text": [
      "[WDM] - Get LATEST driver version for 86.0.4240\n",
      "[WDM] - Trying to download new driver from http://chromedriver.storage.googleapis.com/86.0.4240.22/chromedriver_win32.zip\n",
      "[WDM] - Driver has been saved in cache [C:\\Users\\dell\\.wdm\\drivers\\chromedriver\\win32\\86.0.4240.22]\n"
     ]
    }
   ],
   "source": [
    "# Mở Chrome và cho full màn hình\n",
    "browser = webdriver.Chrome(ChromeDriverManager().install())\n",
    "browser.maximize_window()"
   ]
  },
  {
   "cell_type": "markdown",
   "metadata": {},
   "source": [
    "- (Hàm truy cập và đợi cho trang load xong)"
   ]
  },
  {
   "cell_type": "code",
   "execution_count": 3,
   "metadata": {},
   "outputs": [],
   "source": [
    "#Tải trang cho đến hết:\n",
    "def load_link(browser, link):\n",
    "    #Vào link:\n",
    "    browser.get(link)\n",
    "    \n",
    "    #Xóa quảng cáo:\n",
    "    dismiss = browser.find_elements_by_class_name('announcement__dismiss')\n",
    "    dismiss[0].click()\n",
    "    \n",
    "    #Cuộn trang\n",
    "    SCROLL_PAUSE_TIME = 3\n",
    "\n",
    "    # Get scroll height\n",
    "    last_height = browser.execute_script(\"return document.body.scrollHeight\")\n",
    "\n",
    "    while True:\n",
    "        # Scroll down to bottom\n",
    "        browser.execute_script(\"window.scrollTo(0, document.body.scrollHeight);\")\n",
    "\n",
    "        # Wait to load page\n",
    "        time.sleep(SCROLL_PAUSE_TIME)\n",
    "\n",
    "        # Calculate new scroll height and compare with last scroll height\n",
    "        new_height = browser.execute_script(\"return document.body.scrollHeight\")\n",
    "        if new_height == last_height:\n",
    "            break\n",
    "        last_height = new_height"
   ]
  },
  {
   "cell_type": "markdown",
   "metadata": {},
   "source": [
    "- Từ trang chủ soundcloud/discover, dùng các gợi ý playlist để lấy các link playlist phục vụ cho việc khai thác. "
   ]
  },
  {
   "cell_type": "code",
   "execution_count": 23,
   "metadata": {},
   "outputs": [],
   "source": [
    "link_browser = 'https://soundcloud.com/discover'\n",
    "\n",
    "#Mở trang chủ của Soundcloud và load trang: \n",
    "load_link(browser, link_browser)\n",
    "\n",
    "#Chờ trang tải:\n",
    "time.sleep(4)\n",
    "\n",
    "#load toàn bộ trang để hiện nhiều playlist nhất \n",
    "buttons = browser.find_elements_by_class_name('tileGallery__sliderPeekForward')\n",
    "t = 0\n",
    "l = len(buttons)\n",
    "while t < l: \n",
    "    if buttons[t].is_displayed():\n",
    "        buttons[t].click()\n",
    "    else:\n",
    "        browser.execute_script(\"window.scrollTo(0, document.body.scrollHeight);\")\n",
    "        t+=1"
   ]
  },
  {
   "cell_type": "code",
   "execution_count": 24,
   "metadata": {},
   "outputs": [
    {
     "name": "stdout",
     "output_type": "stream",
     "text": [
      "Số link playlist thu được:  300\n"
     ]
    }
   ],
   "source": [
    "# Xuất link tất cả playlist\n",
    "playlists = browser.find_elements_by_class_name('audibleTile__audibleHeading')\n",
    "print(\"Số link playlist thu được: \", len(playlists))\n",
    "\n",
    "#Xuất kết quả vào file link_playlists.txt\n",
    "f = open('link_playlists.txt', 'w')\n",
    "for playlist in playlists:\n",
    "    if playlist.get_attribute('href'):\n",
    "        f.write(\"{}\\n\".format(playlist.get_attribute('href')))\n",
    "f.close()\n"
   ]
  },
  {
   "cell_type": "markdown",
   "metadata": {},
   "source": [
    "### Lọc thông tin về track, playlist từ danh sách link playlist:"
   ]
  },
  {
   "cell_type": "markdown",
   "metadata": {},
   "source": [
    "- Thu thập dữ liệu từ playlist gợi ý ở trang chủ Soundcloud:"
   ]
  },
  {
   "cell_type": "code",
   "execution_count": 5,
   "metadata": {},
   "outputs": [],
   "source": [
    "#Lưu thông tin playlist vào file:\n",
    "def file_write(filename, track_list, track_link_list, user_name_list, user_link_list, playcount_list, duration_list):\n",
    "    with open(filename, 'a', encoding='utf-8') as f:\n",
    "        for i in range(len(track_list)):\n",
    "            f.write(f'{track_list[i]}\\t{track_link_list[i]}\\t{user_name_list[i]}\\t{user_link_list[i]}\\t{playcount_list[i]}\\t{duration_list[i]}\\n')\n",
    "        f.close()"
   ]
  },
  {
   "cell_type": "code",
   "execution_count": 6,
   "metadata": {},
   "outputs": [],
   "source": [
    "#Hàm tương tác với trang để lấy thông tin và lưu vào file:\n",
    "def get_playlist_info(playlist_file, track_file, browser, link):\n",
    "    #Tải hết trang:\n",
    "    load_link(browser, link)\n",
    "    \n",
    "    time.sleep(3)\n",
    "    browser.find_element_by_tag_name('html').send_keys(Keys.ESCAPE)\n",
    "    \n",
    "    PAUSE_TIME = 0.2\n",
    "    \n",
    "    #List:\n",
    "    track_list = []\n",
    "    track_link_list = []\n",
    "    user_name_list = []\n",
    "    user_link_list = []\n",
    "    playcount_list = []\n",
    "    duration_list = []\n",
    "    empty = []\n",
    "    \n",
    "    time.sleep(2)\n",
    "    #Tìm tên track\n",
    "    tracks = browser.find_elements_by_class_name('trackItem__trackTitle')\n",
    "    number_track = len(tracks)\n",
    "    for i in range(len(tracks)):\n",
    "        track_name = tracks[i].text\n",
    "        track_list.append(track_name)\n",
    "        track_link_list.append(tracks[i].get_attribute('href'))\n",
    "    \n",
    "    \n",
    "    users = browser.find_elements_by_class_name('trackItem__username')\n",
    "    for i in range(len(users)):\n",
    "        if users[i].get_attribute('href'):\n",
    "            user_link = users[i].get_attribute('href')\n",
    "            user_name_list.append(users[i].text)\n",
    "        else: \n",
    "            user_name_list.append(users[i].text)\n",
    "            user_link = 'None'\n",
    "        user_link_list.append(user_link)\n",
    "        \n",
    "    time.sleep(6)\n",
    "    #Thêm vào playcount\n",
    "    playcounts = browser.find_elements_by_class_name('trackItem__additional')\n",
    "    for i in range(len(users)):\n",
    "        if playcounts[i].text == 'Not available in Viet Nam':\n",
    "            empty.append(i)\n",
    "            playcount = None\n",
    "        else:\n",
    "            if len(playcounts[i].text) > 10:\n",
    "                playcount = None\n",
    "            else:\n",
    "                playcount = playcounts[i].text\n",
    "        playcount_list.append(playcount)\n",
    "    \n",
    "    track_durations = browser.find_elements_by_class_name('playbackTimeline__duration')\n",
    "    for i in range(len(users)):\n",
    "        if i in empty:\n",
    "            duration_list.append(None)\n",
    "        if track_durations[0].text:\n",
    "            track_duration = str(track_durations[0].text.split('\\n')[1])\n",
    "        else:\n",
    "            track_duration = None\n",
    "        duration_list.append(track_duration)\n",
    "        browser.find_elements_by_class_name('skipControl__next')[0].click()\n",
    "        time.sleep(PAUSE_TIME)    \n",
    "        \n",
    "    file_write(track_file, track_list, track_link_list, user_name_list, user_link_list, playcount_list, duration_list)\n",
    "    \n",
    "    time.sleep(3)\n",
    "    try:\n",
    "        playlist_name = browser.find_element_by_class_name('soundTitle__title').text\n",
    "    except NoSuchElementException:\n",
    "        playlist_name = browser.find_element_by_class_name('fullHero__titleTextLineBig').text\n",
    "    try:\n",
    "        playlist_owner_name = browser.find_element_by_class_name('userBadge__usernameLink').text\n",
    "        playlist_owner_url = browser.find_element_by_class_name('userBadge__usernameLink').get_attribute('href')\n",
    "        playlist_likes = browser.find_element_by_class_name('sc-ministats-likes').text.split('\\n')[1]\n",
    "        playlist_posted_time = \\\n",
    "            browser.find_element_by_class_name('relativeTime').get_attribute('datetime').split('T')[0]\n",
    "\n",
    "    except NoSuchElementException:\n",
    "        playlist_owner_name = ''\n",
    "        playlist_owner_url = ''\n",
    "        playlist_likes = ''\n",
    "        playlist_posted_time = ''\n",
    "    f_playlist = open(playlist_file, 'a', encoding='utf-8')\n",
    "    f_playlist.write(f'{playlist_name}\\t{playlist_owner_name}\\t{playlist_owner_url}\\t{number_track}\\t{playlist_posted_time}\\t{playlist_likes}\\n')\n",
    "    f_playlist.close()"
   ]
  },
  {
   "cell_type": "markdown",
   "metadata": {},
   "source": [
    "- Load tất cả các link playlist thu được và trả về lượng thông tin nạp vào file track.csv và playlist.csv"
   ]
  },
  {
   "cell_type": "code",
   "execution_count": 31,
   "metadata": {},
   "outputs": [],
   "source": [
    "f = open('track.csv', 'w', encoding='utf-8')\n",
    "f.write('Track_name\\tTrack_link\\tUser_name\\tUser_link\\tPlay_count\\tDuration\\n')\n",
    "f.close()\n",
    "\n",
    "f = open('playlist.csv', 'w', encoding='utf-8')\n",
    "f.write('playlist_name\\tplaylist_owner_name\\tplaylist_owner_url\\tnumber_track\\tplaylist_posted_time\\tplaylist_likes\\n')\n",
    "f.close()\n",
    "\n",
    "f = open('user.csv', 'w', encoding='utf-8')\n",
    "f.write('User_name\\tUser_link\\tUser_type\\tFollower\\tFollowing\\tTrack_count\\n')\n",
    "f.close()"
   ]
  },
  {
   "cell_type": "code",
   "execution_count": 33,
   "metadata": {
    "scrolled": true
   },
   "outputs": [
    {
     "name": "stdout",
     "output_type": "stream",
     "text": [
      "8836.687911987305\n"
     ]
    }
   ],
   "source": [
    "#Run\n",
    "file = open('link_playlists.txt', 'r')\n",
    "start = time.time()\n",
    "for link in file:\n",
    "        get_playlist_info('playlist.csv', 'track.csv', browser, link)\n",
    "file.close()\n",
    "print(time.time() - start)"
   ]
  },
  {
   "cell_type": "markdown",
   "metadata": {},
   "source": [
    "### Lọc thông tin user từ danh sách link user (chứa trong track.csv):"
   ]
  },
  {
   "cell_type": "markdown",
   "metadata": {},
   "source": [
    "- Lấy ngẫu nhiên 2000 user link từ file track.csv để khai thác thông tin user "
   ]
  },
  {
   "cell_type": "code",
   "execution_count": 21,
   "metadata": {
    "scrolled": false
   },
   "outputs": [],
   "source": [
    "f = open('track.csv', 'r', encoding='utf-8')\n",
    "jobs = f.readlines()\n",
    "test = random.choices(jobs[1:], k=2000)\n",
    "f.close()"
   ]
  },
  {
   "cell_type": "code",
   "execution_count": 22,
   "metadata": {},
   "outputs": [],
   "source": [
    "with open('link_user.csv', 'w', encoding='utf-8') as f:\n",
    "    for i in test:\n",
    "        user_link = i.split('\\t')[3]\n",
    "        f.write(f'{user_link}\\n')\n",
    "f.close()"
   ]
  },
  {
   "cell_type": "markdown",
   "metadata": {},
   "source": [
    "- Hàm lấy thông tin từ user_link và lưu vào file .csv:"
   ]
  },
  {
   "cell_type": "code",
   "execution_count": 74,
   "metadata": {},
   "outputs": [],
   "source": [
    "def get_user_info(filename, browser, link):\n",
    "    user_link = link.replace('\\n', '')\n",
    "    SLEEP_TIME = 1\n",
    "    \n",
    "    #truy cập link:\n",
    "    browser.get(link)\n",
    "    time.sleep(SLEEP_TIME)\n",
    "    browser.execute_script(\"window.scrollTo(0, document.body.scrollHeight);\")\n",
    "\n",
    "    #Lấy thông tin:\n",
    "    try:\n",
    "        user_name = browser.find_elements_by_class_name('profileHeaderInfo__userName')[0].text.split('Pro')[0]\n",
    "        follower = browser.find_elements_by_class_name('infoStats__value')[0].text\n",
    "        following = browser.find_elements_by_class_name('infoStats__value')[1].text\n",
    "        track_count = browser.find_elements_by_class_name('infoStats__value')[2].text\n",
    "    except NoSuchElementException:\n",
    "        user_name = None\n",
    "        follower = None\n",
    "        following = None\n",
    "        track_count = None\n",
    "    try:\n",
    "        star = browser.find_element_by_class_name('profileHeaderInfo__premiumIndicator').text\n",
    "        user_type = star\n",
    "    except NoSuchElementException:\n",
    "        user_type = 'Basic'\n",
    "    f_playlist = open(filename, 'a', encoding='utf-8')\n",
    "    f_playlist.write(f'{user_name}\\t{user_link}\\t{user_type}\\t{follower}\\t{following}\\t{track_count}\\n')\n",
    "    "
   ]
  },
  {
   "cell_type": "code",
   "execution_count": 80,
   "metadata": {},
   "outputs": [
    {
     "name": "stdout",
     "output_type": "stream",
     "text": [
      "1141.0282909870148\n"
     ]
    }
   ],
   "source": [
    "#Thiếu dữ liệu 1191 (bd từ 1) do user k tồn tại\n",
    "f = open('link_user.csv', 'r', encoding='utf-8')\n",
    "start = time.time()\n",
    "for line in f:\n",
    "        get_user_info('user1.csv', browser, line)\n",
    "f.close()\n",
    "print(time.time() - start)"
   ]
  },
  {
   "cell_type": "markdown",
   "metadata": {},
   "source": [
    "## 2/ Tiền xử lý:"
   ]
  },
  {
   "cell_type": "markdown",
   "metadata": {},
   "source": [
    "> **File track.csv:**"
   ]
  },
  {
   "cell_type": "code",
   "execution_count": 13,
   "metadata": {
    "scrolled": false
   },
   "outputs": [
    {
     "data": {
      "text/html": [
       "<div>\n",
       "<style scoped>\n",
       "    .dataframe tbody tr th:only-of-type {\n",
       "        vertical-align: middle;\n",
       "    }\n",
       "\n",
       "    .dataframe tbody tr th {\n",
       "        vertical-align: top;\n",
       "    }\n",
       "\n",
       "    .dataframe thead th {\n",
       "        text-align: right;\n",
       "    }\n",
       "</style>\n",
       "<table border=\"1\" class=\"dataframe\">\n",
       "  <thead>\n",
       "    <tr style=\"text-align: right;\">\n",
       "      <th></th>\n",
       "      <th>Track_name</th>\n",
       "      <th>Track_link</th>\n",
       "      <th>User_name</th>\n",
       "      <th>User_link</th>\n",
       "      <th>Play_count</th>\n",
       "      <th>Duration</th>\n",
       "    </tr>\n",
       "  </thead>\n",
       "  <tbody>\n",
       "    <tr>\n",
       "      <th>0</th>\n",
       "      <td>Zara Larsson - Uncover (Millesim Remix)</td>\n",
       "      <td>https://soundcloud.com/millesimofficial/zara-l...</td>\n",
       "      <td>Millesim</td>\n",
       "      <td>https://soundcloud.com/millesimofficial</td>\n",
       "      <td>None</td>\n",
       "      <td>3:54</td>\n",
       "    </tr>\n",
       "    <tr>\n",
       "      <th>1</th>\n",
       "      <td>The Chainsmokers Ft. GGFO - Let You Go (Aash M...</td>\n",
       "      <td>https://soundcloud.com/aash-mehta/let-you-go?i...</td>\n",
       "      <td>Aash Mehta</td>\n",
       "      <td>https://soundcloud.com/aash-mehta</td>\n",
       "      <td>8.78M</td>\n",
       "      <td>5:12</td>\n",
       "    </tr>\n",
       "    <tr>\n",
       "      <th>2</th>\n",
       "      <td>Birds Fly (Commentary Bonus Version) [feat. Mr...</td>\n",
       "      <td>https://soundcloud.com/hardwell/hardwell-feat-...</td>\n",
       "      <td>HARDWELL</td>\n",
       "      <td>https://soundcloud.com/hardwell</td>\n",
       "      <td>6.6M</td>\n",
       "      <td>None</td>\n",
       "    </tr>\n",
       "    <tr>\n",
       "      <th>3</th>\n",
       "      <td>KDrew - Tonight (GRMM Remix)</td>\n",
       "      <td>https://soundcloud.com/hegemon/kdrew-tonight-g...</td>\n",
       "      <td>Hegemon Select</td>\n",
       "      <td>https://soundcloud.com/hegemon</td>\n",
       "      <td>6.94M</td>\n",
       "      <td>4:03</td>\n",
       "    </tr>\n",
       "    <tr>\n",
       "      <th>4</th>\n",
       "      <td>The Light (Acoustic Version)</td>\n",
       "      <td>https://soundcloud.com/armadamusic/disco-fries...</td>\n",
       "      <td>Armada Music</td>\n",
       "      <td>https://soundcloud.com/armadamusic</td>\n",
       "      <td>5.5M</td>\n",
       "      <td>3:20</td>\n",
       "    </tr>\n",
       "  </tbody>\n",
       "</table>\n",
       "</div>"
      ],
      "text/plain": [
       "                                          Track_name  \\\n",
       "0            Zara Larsson - Uncover (Millesim Remix)   \n",
       "1  The Chainsmokers Ft. GGFO - Let You Go (Aash M...   \n",
       "2  Birds Fly (Commentary Bonus Version) [feat. Mr...   \n",
       "3                       KDrew - Tonight (GRMM Remix)   \n",
       "4                       The Light (Acoustic Version)   \n",
       "\n",
       "                                          Track_link       User_name  \\\n",
       "0  https://soundcloud.com/millesimofficial/zara-l...        Millesim   \n",
       "1  https://soundcloud.com/aash-mehta/let-you-go?i...      Aash Mehta   \n",
       "2  https://soundcloud.com/hardwell/hardwell-feat-...        HARDWELL   \n",
       "3  https://soundcloud.com/hegemon/kdrew-tonight-g...  Hegemon Select   \n",
       "4  https://soundcloud.com/armadamusic/disco-fries...    Armada Music   \n",
       "\n",
       "                                 User_link Play_count Duration  \n",
       "0  https://soundcloud.com/millesimofficial       None     3:54  \n",
       "1        https://soundcloud.com/aash-mehta      8.78M     5:12  \n",
       "2          https://soundcloud.com/hardwell       6.6M     None  \n",
       "3           https://soundcloud.com/hegemon      6.94M     4:03  \n",
       "4       https://soundcloud.com/armadamusic       5.5M     3:20  "
      ]
     },
     "execution_count": 13,
     "metadata": {},
     "output_type": "execute_result"
    }
   ],
   "source": [
    "df_track = pd.read_csv(\"track.csv\", sep = '\\t')\n",
    "df_track.head()"
   ]
  },
  {
   "cell_type": "markdown",
   "metadata": {},
   "source": [
    "- Thông tin dữ liệu:"
   ]
  },
  {
   "cell_type": "code",
   "execution_count": 14,
   "metadata": {},
   "outputs": [
    {
     "name": "stdout",
     "output_type": "stream",
     "text": [
      "Dữ liệu có 10725 dòng và 6 cột\n"
     ]
    }
   ],
   "source": [
    "rows, collumns = df_track.shape\n",
    "print(\"Dữ liệu có {} dòng và {} cột\".format(rows, collumns))"
   ]
  },
  {
   "cell_type": "code",
   "execution_count": 15,
   "metadata": {},
   "outputs": [
    {
     "name": "stdout",
     "output_type": "stream",
     "text": [
      "<class 'pandas.core.frame.DataFrame'>\n",
      "RangeIndex: 10725 entries, 0 to 10724\n",
      "Data columns (total 6 columns):\n",
      " #   Column      Non-Null Count  Dtype \n",
      "---  ------      --------------  ----- \n",
      " 0   Track_name  10725 non-null  object\n",
      " 1   Track_link  10725 non-null  object\n",
      " 2   User_name   10725 non-null  object\n",
      " 3   User_link   10725 non-null  object\n",
      " 4   Play_count  10672 non-null  object\n",
      " 5   Duration    10725 non-null  object\n",
      "dtypes: object(6)\n",
      "memory usage: 502.9+ KB\n"
     ]
    }
   ],
   "source": [
    "df_track.info()"
   ]
  },
  {
   "cell_type": "markdown",
   "metadata": {},
   "source": [
    "(Dữ liêu \"Play count\" bị thiếu vì trong lúc khai thác dữ liệu quy định nếu không xuất hiện thông tin thì trả về None)"
   ]
  },
  {
   "cell_type": "markdown",
   "metadata": {},
   "source": [
    "- Xóa đi những dòng bị thiếu dữ liệu:\n"
   ]
  },
  {
   "cell_type": "code",
   "execution_count": 118,
   "metadata": {},
   "outputs": [
    {
     "name": "stdout",
     "output_type": "stream",
     "text": [
      "<class 'pandas.core.frame.DataFrame'>\n",
      "Int64Index: 9863 entries, 1 to 10724\n",
      "Data columns (total 6 columns):\n",
      " #   Column      Non-Null Count  Dtype \n",
      "---  ------      --------------  ----- \n",
      " 0   Track_name  9863 non-null   object\n",
      " 1   Track_link  9863 non-null   object\n",
      " 2   User_name   9863 non-null   object\n",
      " 3   User_link   9863 non-null   object\n",
      " 4   Play_count  9863 non-null   object\n",
      " 5   Duration    9863 non-null   object\n",
      "dtypes: object(6)\n",
      "memory usage: 539.4+ KB\n"
     ]
    }
   ],
   "source": [
    "df1 = df_track.copy()\n",
    "df1.dropna(axis=0, inplace=True)\n",
    "df1 = df1.mask(df1.eq('None')).dropna()\n",
    "df1.info()"
   ]
  },
  {
   "cell_type": "markdown",
   "metadata": {},
   "source": [
    "- Chuyển định dạng thuộc tính số lượt nghe(Play count) sang dạng int:"
   ]
  },
  {
   "cell_type": "code",
   "execution_count": 119,
   "metadata": {},
   "outputs": [],
   "source": [
    "df1[\"Play_count\"] = df1[\"Play_count\"].apply(lambda x: x.replace(',', ''))\n",
    "\n",
    "df1[\"Play_count\"] = df1[\"Play_count\"].replace({'K': '*1e3', 'M': '*1e6'}, regex=True).map(pd.eval).astype(int)\n",
    "\n",
    "#định dạng lại Track_link:\n",
    "df1['Track_link'] = df1['Track_link'].replace(' ', '').astype(str)\n",
    "df1['Track_link'] = df1['Track_link'].replace('\\n', '').astype(str)"
   ]
  },
  {
   "cell_type": "markdown",
   "metadata": {},
   "source": [
    "- Chuẩn hóa cột Duration thành đơn vị giây (s):"
   ]
  },
  {
   "cell_type": "code",
   "execution_count": 120,
   "metadata": {},
   "outputs": [],
   "source": [
    "df1['Duration'] = df1['Duration'].apply(lambda x: '00:' + x if x.count(':') == 1 else x)\n",
    "df1['Duration'] = df1['Duration'].str.split(':').apply(lambda x: int(x[0]) * 3600 + int(x[1]) * 60 + int(x[2]))"
   ]
  },
  {
   "cell_type": "markdown",
   "metadata": {},
   "source": [
    "> **File user.csv:**"
   ]
  },
  {
   "cell_type": "code",
   "execution_count": 72,
   "metadata": {},
   "outputs": [
    {
     "data": {
      "text/html": [
       "<div>\n",
       "<style scoped>\n",
       "    .dataframe tbody tr th:only-of-type {\n",
       "        vertical-align: middle;\n",
       "    }\n",
       "\n",
       "    .dataframe tbody tr th {\n",
       "        vertical-align: top;\n",
       "    }\n",
       "\n",
       "    .dataframe thead th {\n",
       "        text-align: right;\n",
       "    }\n",
       "</style>\n",
       "<table border=\"1\" class=\"dataframe\">\n",
       "  <thead>\n",
       "    <tr style=\"text-align: right;\">\n",
       "      <th></th>\n",
       "      <th>User_name</th>\n",
       "      <th>User_link</th>\n",
       "      <th>User_type</th>\n",
       "      <th>Follower</th>\n",
       "      <th>Following</th>\n",
       "      <th>Track_count</th>\n",
       "    </tr>\n",
       "  </thead>\n",
       "  <tbody>\n",
       "    <tr>\n",
       "      <th>0</th>\n",
       "      <td>JRhodesPianist</td>\n",
       "      <td>https://soundcloud.com/jrhodespianist</td>\n",
       "      <td>Basic</td>\n",
       "      <td>53K</td>\n",
       "      <td>0</td>\n",
       "      <td>28</td>\n",
       "    </tr>\n",
       "    <tr>\n",
       "      <th>1</th>\n",
       "      <td>Lazy Lewis</td>\n",
       "      <td>https://soundcloud.com/lewis-the-funky-hip-fellow</td>\n",
       "      <td>Pro Unlimited</td>\n",
       "      <td>5,981</td>\n",
       "      <td>421</td>\n",
       "      <td>41</td>\n",
       "    </tr>\n",
       "    <tr>\n",
       "      <th>2</th>\n",
       "      <td>Steve Aoki</td>\n",
       "      <td>https://soundcloud.com/steveaoki</td>\n",
       "      <td>Pro Unlimited</td>\n",
       "      <td>4.13M</td>\n",
       "      <td>2</td>\n",
       "      <td>1,280</td>\n",
       "    </tr>\n",
       "    <tr>\n",
       "      <th>3</th>\n",
       "      <td>Andreas Moe</td>\n",
       "      <td>https://soundcloud.com/andreasmoe</td>\n",
       "      <td>Basic</td>\n",
       "      <td>3,306</td>\n",
       "      <td>3</td>\n",
       "      <td>48</td>\n",
       "    </tr>\n",
       "    <tr>\n",
       "      <th>4</th>\n",
       "      <td>Mixmag</td>\n",
       "      <td>https://soundcloud.com/mixmag-1</td>\n",
       "      <td>Pro Unlimited</td>\n",
       "      <td>1.44M</td>\n",
       "      <td>3</td>\n",
       "      <td>4,972</td>\n",
       "    </tr>\n",
       "  </tbody>\n",
       "</table>\n",
       "</div>"
      ],
      "text/plain": [
       "        User_name                                          User_link  \\\n",
       "0  JRhodesPianist              https://soundcloud.com/jrhodespianist   \n",
       "1     Lazy Lewis   https://soundcloud.com/lewis-the-funky-hip-fellow   \n",
       "2     Steve Aoki                    https://soundcloud.com/steveaoki   \n",
       "3     Andreas Moe                  https://soundcloud.com/andreasmoe   \n",
       "4         Mixmag                     https://soundcloud.com/mixmag-1   \n",
       "\n",
       "       User_type Follower Following Track_count  \n",
       "0          Basic      53K         0          28  \n",
       "1  Pro Unlimited    5,981       421          41  \n",
       "2  Pro Unlimited    4.13M         2       1,280  \n",
       "3          Basic    3,306         3          48  \n",
       "4  Pro Unlimited    1.44M         3       4,972  "
      ]
     },
     "execution_count": 72,
     "metadata": {},
     "output_type": "execute_result"
    }
   ],
   "source": [
    "df_user = pd.read_csv(\"user.csv\", sep = '\\t')\n",
    "df_user.head()"
   ]
  },
  {
   "cell_type": "markdown",
   "metadata": {},
   "source": [
    "- Thông tin dữ liệu:"
   ]
  },
  {
   "cell_type": "code",
   "execution_count": 75,
   "metadata": {},
   "outputs": [
    {
     "name": "stdout",
     "output_type": "stream",
     "text": [
      "Dữ liệu có 1999 dòng và 6 cột\n"
     ]
    }
   ],
   "source": [
    "rows, collumns = df_user.shape\n",
    "print(\"Dữ liệu có {} dòng và {} cột\".format(rows, collumns))"
   ]
  },
  {
   "cell_type": "code",
   "execution_count": 77,
   "metadata": {},
   "outputs": [
    {
     "name": "stdout",
     "output_type": "stream",
     "text": [
      "<class 'pandas.core.frame.DataFrame'>\n",
      "RangeIndex: 1999 entries, 0 to 1998\n",
      "Data columns (total 6 columns):\n",
      " #   Column       Non-Null Count  Dtype \n",
      "---  ------       --------------  ----- \n",
      " 0   User_name    1997 non-null   object\n",
      " 1   User_link    1999 non-null   object\n",
      " 2   User_type    1999 non-null   object\n",
      " 3   Follower     1964 non-null   object\n",
      " 4   Following    1941 non-null   object\n",
      " 5   Track_count  1944 non-null   object\n",
      "dtypes: object(6)\n",
      "memory usage: 93.8+ KB\n"
     ]
    }
   ],
   "source": [
    "df_user.info()"
   ]
  },
  {
   "cell_type": "markdown",
   "metadata": {},
   "source": [
    "(Dữ liêu bị thiếu đa số là do việc khai thác khi trang chưa tải xong)"
   ]
  },
  {
   "cell_type": "markdown",
   "metadata": {},
   "source": [
    "- Xóa đi những dòng bị thiếu dữ liệu:\n"
   ]
  },
  {
   "cell_type": "code",
   "execution_count": 79,
   "metadata": {},
   "outputs": [
    {
     "name": "stdout",
     "output_type": "stream",
     "text": [
      "<class 'pandas.core.frame.DataFrame'>\n",
      "Int64Index: 1938 entries, 0 to 1998\n",
      "Data columns (total 6 columns):\n",
      " #   Column       Non-Null Count  Dtype \n",
      "---  ------       --------------  ----- \n",
      " 0   User_name    1938 non-null   object\n",
      " 1   User_link    1938 non-null   object\n",
      " 2   User_type    1938 non-null   object\n",
      " 3   Follower     1938 non-null   object\n",
      " 4   Following    1938 non-null   object\n",
      " 5   Track_count  1938 non-null   object\n",
      "dtypes: object(6)\n",
      "memory usage: 106.0+ KB\n"
     ]
    }
   ],
   "source": [
    "df2 = df_user.copy()\n",
    "df2.dropna(axis=0, inplace=True)\n",
    "df2 = df2.mask(df2.eq('None')).dropna()\n",
    "df2.info()"
   ]
  },
  {
   "cell_type": "markdown",
   "metadata": {},
   "source": [
    "> **File playlist.csv:**"
   ]
  },
  {
   "cell_type": "code",
   "execution_count": 93,
   "metadata": {},
   "outputs": [
    {
     "data": {
      "text/html": [
       "<div>\n",
       "<style scoped>\n",
       "    .dataframe tbody tr th:only-of-type {\n",
       "        vertical-align: middle;\n",
       "    }\n",
       "\n",
       "    .dataframe tbody tr th {\n",
       "        vertical-align: top;\n",
       "    }\n",
       "\n",
       "    .dataframe thead th {\n",
       "        text-align: right;\n",
       "    }\n",
       "</style>\n",
       "<table border=\"1\" class=\"dataframe\">\n",
       "  <thead>\n",
       "    <tr style=\"text-align: right;\">\n",
       "      <th></th>\n",
       "      <th>playlist_name</th>\n",
       "      <th>playlist_owner_name</th>\n",
       "      <th>playlist_owner_url</th>\n",
       "      <th>number_track</th>\n",
       "      <th>playlist_posted_time</th>\n",
       "      <th>playlist_likes</th>\n",
       "    </tr>\n",
       "  </thead>\n",
       "  <tbody>\n",
       "    <tr>\n",
       "      <th>0</th>\n",
       "      <td>musicas relaxantes</td>\n",
       "      <td>lihcogine</td>\n",
       "      <td>https://soundcloud.com/eliana-cogine</td>\n",
       "      <td>49</td>\n",
       "      <td>2015-04-09</td>\n",
       "      <td>178K</td>\n",
       "    </tr>\n",
       "    <tr>\n",
       "      <th>1</th>\n",
       "      <td>Favorites</td>\n",
       "      <td>Yeonkkot</td>\n",
       "      <td>https://soundcloud.com/yeonkkot</td>\n",
       "      <td>15</td>\n",
       "      <td>2017-08-19</td>\n",
       "      <td>17K</td>\n",
       "    </tr>\n",
       "    <tr>\n",
       "      <th>2</th>\n",
       "      <td>jazzhip 7</td>\n",
       "      <td>soo</td>\n",
       "      <td>https://soundcloud.com/yourparadis</td>\n",
       "      <td>45</td>\n",
       "      <td>2019-03-02</td>\n",
       "      <td>110K</td>\n",
       "    </tr>\n",
       "    <tr>\n",
       "      <th>3</th>\n",
       "      <td>Chill out</td>\n",
       "      <td>Juneau the Zookeeper</td>\n",
       "      <td>https://soundcloud.com/juneau713</td>\n",
       "      <td>182</td>\n",
       "      <td>2019-01-05</td>\n",
       "      <td>8,665</td>\n",
       "    </tr>\n",
       "    <tr>\n",
       "      <th>4</th>\n",
       "      <td>Morning Chillout</td>\n",
       "      <td>Mighty</td>\n",
       "      <td>https://soundcloud.com/mightyj-1</td>\n",
       "      <td>98</td>\n",
       "      <td>2020-06-30</td>\n",
       "      <td>90.1K</td>\n",
       "    </tr>\n",
       "  </tbody>\n",
       "</table>\n",
       "</div>"
      ],
      "text/plain": [
       "        playlist_name   playlist_owner_name  \\\n",
       "0  musicas relaxantes             lihcogine   \n",
       "1           Favorites              Yeonkkot   \n",
       "2           jazzhip 7                   soo   \n",
       "3           Chill out  Juneau the Zookeeper   \n",
       "4    Morning Chillout                Mighty   \n",
       "\n",
       "                     playlist_owner_url  number_track playlist_posted_time  \\\n",
       "0  https://soundcloud.com/eliana-cogine            49           2015-04-09   \n",
       "1       https://soundcloud.com/yeonkkot            15           2017-08-19   \n",
       "2    https://soundcloud.com/yourparadis            45           2019-03-02   \n",
       "3      https://soundcloud.com/juneau713           182           2019-01-05   \n",
       "4      https://soundcloud.com/mightyj-1            98           2020-06-30   \n",
       "\n",
       "  playlist_likes  \n",
       "0           178K  \n",
       "1            17K  \n",
       "2           110K  \n",
       "3          8,665  \n",
       "4          90.1K  "
      ]
     },
     "execution_count": 93,
     "metadata": {},
     "output_type": "execute_result"
    }
   ],
   "source": [
    "df_playlist = pd.read_csv(\"playlist.csv\", sep = '\\t')\n",
    "df_playlist.head()"
   ]
  },
  {
   "cell_type": "markdown",
   "metadata": {},
   "source": [
    "- Thông tin dữ liệu:"
   ]
  },
  {
   "cell_type": "code",
   "execution_count": 94,
   "metadata": {},
   "outputs": [
    {
     "name": "stdout",
     "output_type": "stream",
     "text": [
      "Dữ liệu có 300 dòng và 6 cột\n"
     ]
    }
   ],
   "source": [
    "rows, collumns = df_playlist.shape\n",
    "print(\"Dữ liệu có {} dòng và {} cột\".format(rows, collumns))"
   ]
  },
  {
   "cell_type": "code",
   "execution_count": 95,
   "metadata": {
    "scrolled": true
   },
   "outputs": [
    {
     "name": "stdout",
     "output_type": "stream",
     "text": [
      "<class 'pandas.core.frame.DataFrame'>\n",
      "RangeIndex: 300 entries, 0 to 299\n",
      "Data columns (total 6 columns):\n",
      " #   Column                Non-Null Count  Dtype \n",
      "---  ------                --------------  ----- \n",
      " 0   playlist_name         300 non-null    object\n",
      " 1   playlist_owner_name   300 non-null    object\n",
      " 2   playlist_owner_url    300 non-null    object\n",
      " 3   number_track          300 non-null    int64 \n",
      " 4   playlist_posted_time  300 non-null    object\n",
      " 5   playlist_likes        300 non-null    object\n",
      "dtypes: int64(1), object(5)\n",
      "memory usage: 14.2+ KB\n"
     ]
    }
   ],
   "source": [
    "df_playlist.info()"
   ]
  },
  {
   "cell_type": "markdown",
   "metadata": {},
   "source": [
    "=> Dữ liệu không bị thiếu"
   ]
  },
  {
   "cell_type": "markdown",
   "metadata": {},
   "source": [
    "- Định dạng lại cột playlist_likes (sang kiểu số):\n"
   ]
  },
  {
   "cell_type": "code",
   "execution_count": 101,
   "metadata": {},
   "outputs": [],
   "source": [
    "df3 = df_playlist.copy()\n",
    "df3[\"playlist_likes\"] = df3[\"playlist_likes\"].apply(lambda x: x.replace(',', ''))\n",
    "df3[\"playlist_likes\"] = df3[\"playlist_likes\"].replace({'K': '*1e3', 'M': '*1e6'}, regex=True).map(pd.eval).astype(int)"
   ]
  },
  {
   "cell_type": "markdown",
   "metadata": {},
   "source": [
    "- Định dạng lại cột playlist_posted_time (ngày đăng playlist):"
   ]
  },
  {
   "cell_type": "code",
   "execution_count": 100,
   "metadata": {},
   "outputs": [],
   "source": [
    "df3[\"playlist_posted_time\"] = pd.to_datetime(df3[\"playlist_posted_time\"])"
   ]
  },
  {
   "cell_type": "markdown",
   "metadata": {},
   "source": [
    "=> Dữ liệu sau khi được xử lý:"
   ]
  },
  {
   "cell_type": "code",
   "execution_count": 102,
   "metadata": {},
   "outputs": [
    {
     "name": "stdout",
     "output_type": "stream",
     "text": [
      "<class 'pandas.core.frame.DataFrame'>\n",
      "RangeIndex: 300 entries, 0 to 299\n",
      "Data columns (total 6 columns):\n",
      " #   Column                Non-Null Count  Dtype \n",
      "---  ------                --------------  ----- \n",
      " 0   playlist_name         300 non-null    object\n",
      " 1   playlist_owner_name   300 non-null    object\n",
      " 2   playlist_owner_url    300 non-null    object\n",
      " 3   number_track          300 non-null    int64 \n",
      " 4   playlist_posted_time  300 non-null    object\n",
      " 5   playlist_likes        300 non-null    int32 \n",
      "dtypes: int32(1), int64(1), object(4)\n",
      "memory usage: 13.0+ KB\n"
     ]
    }
   ],
   "source": [
    "df3.info()"
   ]
  },
  {
   "cell_type": "markdown",
   "metadata": {},
   "source": [
    "# III/ Đặt câu hỏi:\n",
    "- **1. Các bản nhạc (track) thịnh hành trên trang chủ Soundcloud?**\n",
    "\n",
    "- **2. Thời lượng của các track trên Soundcloud?**\n",
    "\n",
    "- **3. Mức độ phổ biến của các loại tài khoản người dùng?**\n",
    "\n",
    "- **4. Có phải playlist càng lâu (tình từ thời gian đăng) thì càng nhận được nhiều lượt thích?**\n"
   ]
  },
  {
   "cell_type": "markdown",
   "metadata": {},
   "source": [
    "# IV/ Tìm câu trả lời:"
   ]
  },
  {
   "cell_type": "markdown",
   "metadata": {},
   "source": [
    "- **<font color=red>1. Các bản nhạc (track) thịnh hành trên trang chủ Soundcloud?</font>**"
   ]
  },
  {
   "cell_type": "markdown",
   "metadata": {},
   "source": [
    "Đầu tiên tìm ra những bản nhạc nằm trong top được nghe nhiều nhất trên trang chủ."
   ]
  },
  {
   "cell_type": "code",
   "execution_count": 69,
   "metadata": {},
   "outputs": [
    {
     "data": {
      "text/plain": [
       "Text(0.5, 0, 'Lượt nghe trực tuyến (đơn vị x100.000.000)')"
      ]
     },
     "execution_count": 69,
     "metadata": {},
     "output_type": "execute_result"
    },
    {
     "data": {
      "image/png": "[encoded data removed]",
      "text/plain": [
       "<Figure size 864x576 with 1 Axes>"
      ]
     },
     "metadata": {},
     "output_type": "display_data"
    }
   ],
   "source": [
    "# question1 = df1.copy().drop_duplicates(subset=['Track_link'], keep=False)\n",
    "question1_a = df1.drop_duplicates('Track_name')\n",
    "question1_a = question1_a.sort_values('Play_count', ascending = True).tail(10)\n",
    "\n",
    "sns.set(rc={'figure.figsize':(12,8)})\n",
    "fig = plt.figure()\n",
    "ax = fig.add_subplot(111)\n",
    "ax.barh(question1_a.Track_name, question1_a.Play_count, fill='black', color=\"#2ecc71\", edgecolor=['black'])\n",
    "ax.set_ylabel('Tên track', fontsize='large')\n",
    "ax.set_xlabel('Lượt nghe trực tuyến (đơn vị x100.000.000)', fontsize='large')\n",
    "# plt.xticks(rotation=90)"
   ]
  },
  {
   "cell_type": "markdown",
   "metadata": {},
   "source": [
    "**Đánh giá:** Dựa vào biểu đồ trên, ta dễ thấy các track đang thịnh hành hiện nay. Đứng đầu là track \"Major Lazer & DJ Snake - Lean On (feat. MØ)\" với hơn 200 triệu lượt nghe, con số này chỉ nhỉnh hơn đôi chút so với các track khác trong top 4 và bỏ xa phần còn lại."
   ]
  },
  {
   "cell_type": "markdown",
   "metadata": {},
   "source": [
    "Để xét tính thịnh hành, thì cần đề cập đến tần suất xuất hiện của các track như sau:"
   ]
  },
  {
   "cell_type": "code",
   "execution_count": 70,
   "metadata": {
    "scrolled": false
   },
   "outputs": [
    {
     "data": {
      "text/plain": [
       "Text(0.5, 0, 'Số lần xuất hiện trong các playlist')"
      ]
     },
     "execution_count": 70,
     "metadata": {},
     "output_type": "execute_result"
    },
    {
     "data": {
      "image/png": "[encoded data removed]",
      "text/plain": [
       "<Figure size 864x576 with 1 Axes>"
      ]
     },
     "metadata": {},
     "output_type": "display_data"
    }
   ],
   "source": [
    "question1_b = df1['Track_name'].value_counts()\n",
    "sns.set(rc={'figure.figsize':(12,8)})\n",
    "fig = plt.figure()\n",
    "ax = fig.add_subplot(111)\n",
    "ax.barh(question1_b.index[:10], question1_b.values[:10], fill='black', color=\"#fc6f30\", edgecolor=['black'])\n",
    "ax.set_ylabel('Tên track', fontsize='large')\n",
    "ax.set_xlabel('Số lần xuất hiện trong các playlist', fontsize='large')"
   ]
  },
  {
   "cell_type": "markdown",
   "metadata": {},
   "source": [
    "**Đánh giá:** Qua biểu đồ trên, có thể thấy các track xuất hiện ở nhiều playlist nhất như \"Matt Simons - Catch & Release (Deepend Remix) - \\[OUT NOW!!\\]\", \"Quarantine life w/ Destructo - Coronavirus Update\"... đều không nằm trong top có lượt nghe nhiều nhất. Do đó có thể thấy việc xuất hiện ở nhiều playlist chỉ ra xu hướng của âm nhạc thời gian gần đây nên lượt nghe có thể không cao bằng các track cũ."
   ]
  },
  {
   "cell_type": "markdown",
   "metadata": {},
   "source": [
    "**Kết luận:** Đa số các track xuất hiện ở nhiều playlist đều không nằm trong top có lượt nghe nhiều nhất. Do đó có thể thấy việc xuất hiện ở nhiều playlist chỉ ra xu hướng của âm nhạc thời gian gần đây nên lượt nghe có thể không cao bằng các track cũ."
   ]
  },
  {
   "cell_type": "markdown",
   "metadata": {},
   "source": [
    "- **<font color=red> 2. Thời lượng của các track trên Soundcloud?</font>**"
   ]
  },
  {
   "cell_type": "markdown",
   "metadata": {},
   "source": [
    "- Sử dụng Boxplot biểu diễn thời gian của các track:"
   ]
  },
  {
   "cell_type": "code",
   "execution_count": 135,
   "metadata": {},
   "outputs": [
    {
     "name": "stdout",
     "output_type": "stream",
     "text": [
      "279.2828753928825\n"
     ]
    },
    {
     "data": {
      "image/png": "[encoded data removed]",
      "text/plain": [
       "<Figure size 864x576 with 1 Axes>"
      ]
     },
     "metadata": {
      "needs_background": "light"
     },
     "output_type": "display_data"
    }
   ],
   "source": [
    "plt.figure(figsize=(12,8))\n",
    "sns.boxplot(df1.Duration)\n",
    "print(np.mean(df1.Duration))"
   ]
  },
  {
   "cell_type": "markdown",
   "metadata": {},
   "source": [
    "**Đánh giá:** Ta thấy độ dài trung bình của 1 track chỉ vào khoảng gần 300s, tức 5 phút. Tuy nhiên vẫn có những track cá biệt có độ dài lớn hơn 5000s (hơn 1 tiếng rưỡi), thậm chí là hơn 20000s, con số thực sự rất lớn."
   ]
  },
  {
   "cell_type": "markdown",
   "metadata": {},
   "source": [
    "- **<font color=red> 3. Mức độ phổ biến của các loại tài khoản người dùng?</font>**"
   ]
  },
  {
   "cell_type": "code",
   "execution_count": 80,
   "metadata": {},
   "outputs": [
    {
     "name": "stdout",
     "output_type": "stream",
     "text": [
      "Các loại tài khoản trên Soundcloud:\n",
      "-Pro Unlimited\n",
      "\n",
      "-Basic\n",
      "\n",
      "-Pro\n",
      "\n"
     ]
    }
   ],
   "source": [
    "question2_a = df2['User_type'].value_counts()\n",
    "print(\"Các loại tài khoản trên Soundcloud:\")\n",
    "for i in question2_a.index:\n",
    "    print(\"-{}\\n\".format(i))"
   ]
  },
  {
   "cell_type": "markdown",
   "metadata": {},
   "source": [
    "Vậy có 3 loại tài khoản người dùng trên Soundcloud gồm: Basic, Pro và Pro Unlimited.\n",
    "\n",
    "Ta bắt đầu phân tích sự khác biệt giữa 3 loại này thông qua số track đăng tải được:"
   ]
  },
  {
   "cell_type": "code",
   "execution_count": 90,
   "metadata": {
    "scrolled": false
   },
   "outputs": [
    {
     "data": {
      "text/plain": [
       "<matplotlib.legend.Legend at 0x1a4e9d21408>"
      ]
     },
     "execution_count": 90,
     "metadata": {},
     "output_type": "execute_result"
    },
    {
     "data": {
      "image/png": "[encoded data removed]",
      "text/plain": [
       "<Figure size 864x576 with 1 Axes>"
      ]
     },
     "metadata": {},
     "output_type": "display_data"
    }
   ],
   "source": [
    "plt.figure(figsize=(12,8))\n",
    "plt.axis('equal');\n",
    "# colors = ['#008fd5', '#fc4f30']\n",
    "colors = ['#008fd5', '#9b59b6', '#e74c3c']\n",
    "plt.pie(question2_a, startangle=90, colors=colors, wedgeprops={'edgecolor': 'black'}, \n",
    "        explode = (0, 0.025, 0.05), autopct='%1.f%%',shadow=True);\n",
    "plt.legend(loc='best', labels=question2_a.index, fontsize='medium')"
   ]
  },
  {
   "cell_type": "markdown",
   "metadata": {},
   "source": [
    "**Đánh giá:** Dễ thấy trên biểu đồ hình quạt, đa số các tài khoản sở hữ các track xuất hiện trên trang chủ là những tài khoản loại Basic và Pro Unlimited, với thị phần đều hơn 40%. Ở lượng người dùng còn lại (tài khoản Pro), chiểm tỉ trọng khá thấp.  "
   ]
  },
  {
   "cell_type": "markdown",
   "metadata": {},
   "source": [
    "**Kết quả:** Qua kết quả, ta thấy được sự ưa chuộng của người dùng đối với gói Pro Unlimited. Họ sẵn sàng nâng thẳng lên gói Unlimited thay vì chỉ Pro, phần nào vì mức giá chênh không quá nhiều nhưng nhận lại ưu đãi lớn hơn.\n",
    "\n",
    "Tuy nhiên, đây chỉ là một lượng NHỎ thông tin người dùng, nên kết quả trên chỉ dừng ở mức suy đoán."
   ]
  },
  {
   "cell_type": "markdown",
   "metadata": {},
   "source": [
    "- **<font color=red> 4. Có phải playlist càng lâu (tình từ thời gian đăng) thì càng nhận được nhiều lượt thích?</font>**"
   ]
  },
  {
   "cell_type": "markdown",
   "metadata": {},
   "source": [
    "Trực quan hóa để thể hiện sự tương quan giữa thuộc tính playlist_posted_time và playlist_likes bằng biểu đồ scatter:"
   ]
  },
  {
   "cell_type": "code",
   "execution_count": 108,
   "metadata": {
    "scrolled": false
   },
   "outputs": [
    {
     "data": {
      "image/png": "[encoded data removed]",
      "text/plain": [
       "<Figure size 864x576 with 1 Axes>"
      ]
     },
     "metadata": {},
     "output_type": "display_data"
    }
   ],
   "source": [
    "ax = df3.plot.scatter(x='playlist_posted_time',\n",
    "                      y='playlist_likes',\n",
    "                      c='DarkBlue')\n",
    "plt.show()"
   ]
  },
  {
   "cell_type": "markdown",
   "metadata": {},
   "source": [
    "**Đánh giá và kết luận:** Nhìn chung, câu hỏi nghi vấn trên có thể đúng. Có thể nhận ra xu hướng các điểm biểu diễn thấp dần theo đà tăng của thời gian, nhưng mức độ không đủ để đưa ra một kết luận cụ thể. Ta thấy vẫn còn những điểm dưới 50000 like hẫu như không ảnh hưởng bởi ngày đăng.   "
   ]
  },
  {
   "cell_type": "markdown",
   "metadata": {},
   "source": [
    "## Lưu ý: "
   ]
  },
  {
   "cell_type": "markdown",
   "metadata": {},
   "source": [
    "Tất cả những đánh giá trên chỉ mang tính khách quan vì bộ dữ liệu chưa đủ **LỚN** đế đưa ra kết luận chung cho các thông tin trên Soundcloud."
   ]
  }
 ],
 "metadata": {
  "kernelspec": {
   "display_name": "Python 3",
   "language": "python",
   "name": "python3"
  },
  "language_info": {
   "codemirror_mode": {
    "name": "ipython",
    "version": 3
   },
   "file_extension": ".py",
   "mimetype": "text/x-python",
   "name": "python",
   "nbconvert_exporter": "python",
   "pygments_lexer": "ipython3",
   "version": "3.7.6"
  }
 },
 "nbformat": 4,
 "nbformat_minor": 4
}
