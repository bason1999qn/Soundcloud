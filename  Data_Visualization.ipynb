{
 "cells": [
  {
   "cell_type": "code",
   "execution_count": 77,
   "metadata": {},
   "outputs": [],
   "source": [
    "\n",
    "%matplotlib inline\n",
    "import matplotlib.pyplot as plt\n",
    "import matplotlib.colors\n",
    "import seaborn as sns\n",
    "import pandas as pd\n",
    "import numpy as np"
   ]
  },
  {
   "cell_type": "code",
   "execution_count": 16,
   "metadata": {
    "scrolled": true
   },
   "outputs": [
    {
     "data": {
      "text/html": [
       "<div>\n",
       "<style scoped>\n",
       "    .dataframe tbody tr th:only-of-type {\n",
       "        vertical-align: middle;\n",
       "    }\n",
       "\n",
       "    .dataframe tbody tr th {\n",
       "        vertical-align: top;\n",
       "    }\n",
       "\n",
       "    .dataframe thead th {\n",
       "        text-align: right;\n",
       "    }\n",
       "</style>\n",
       "<table border=\"1\" class=\"dataframe\">\n",
       "  <thead>\n",
       "    <tr style=\"text-align: right;\">\n",
       "      <th></th>\n",
       "      <th>Track_name</th>\n",
       "      <th>Track_link</th>\n",
       "      <th>User_name</th>\n",
       "      <th>User_link</th>\n",
       "      <th>Play_count</th>\n",
       "      <th>Duration</th>\n",
       "    </tr>\n",
       "  </thead>\n",
       "  <tbody>\n",
       "    <tr>\n",
       "      <th>0</th>\n",
       "      <td>Zara Larsson - Uncover (Millesim Remix)</td>\n",
       "      <td>https://soundcloud.com/millesimofficial/zara-l...</td>\n",
       "      <td>Millesim</td>\n",
       "      <td>https://soundcloud.com/millesimofficial</td>\n",
       "      <td>None</td>\n",
       "      <td>3:54</td>\n",
       "    </tr>\n",
       "    <tr>\n",
       "      <th>1</th>\n",
       "      <td>The Chainsmokers Ft. GGFO - Let You Go (Aash M...</td>\n",
       "      <td>https://soundcloud.com/aash-mehta/let-you-go?i...</td>\n",
       "      <td>Aash Mehta</td>\n",
       "      <td>https://soundcloud.com/aash-mehta</td>\n",
       "      <td>8.78M</td>\n",
       "      <td>5:12</td>\n",
       "    </tr>\n",
       "    <tr>\n",
       "      <th>2</th>\n",
       "      <td>Birds Fly (Commentary Bonus Version) [feat. Mr...</td>\n",
       "      <td>https://soundcloud.com/hardwell/hardwell-feat-...</td>\n",
       "      <td>HARDWELL</td>\n",
       "      <td>https://soundcloud.com/hardwell</td>\n",
       "      <td>6.6M</td>\n",
       "      <td>None</td>\n",
       "    </tr>\n",
       "    <tr>\n",
       "      <th>3</th>\n",
       "      <td>KDrew - Tonight (GRMM Remix)</td>\n",
       "      <td>https://soundcloud.com/hegemon/kdrew-tonight-g...</td>\n",
       "      <td>Hegemon Select</td>\n",
       "      <td>https://soundcloud.com/hegemon</td>\n",
       "      <td>6.94M</td>\n",
       "      <td>4:03</td>\n",
       "    </tr>\n",
       "    <tr>\n",
       "      <th>4</th>\n",
       "      <td>The Light (Acoustic Version)</td>\n",
       "      <td>https://soundcloud.com/armadamusic/disco-fries...</td>\n",
       "      <td>Armada Music</td>\n",
       "      <td>https://soundcloud.com/armadamusic</td>\n",
       "      <td>5.5M</td>\n",
       "      <td>3:20</td>\n",
       "    </tr>\n",
       "  </tbody>\n",
       "</table>\n",
       "</div>"
      ],
      "text/plain": [
       "                                          Track_name  \\\n",
       "0            Zara Larsson - Uncover (Millesim Remix)   \n",
       "1  The Chainsmokers Ft. GGFO - Let You Go (Aash M...   \n",
       "2  Birds Fly (Commentary Bonus Version) [feat. Mr...   \n",
       "3                       KDrew - Tonight (GRMM Remix)   \n",
       "4                       The Light (Acoustic Version)   \n",
       "\n",
       "                                          Track_link       User_name  \\\n",
       "0  https://soundcloud.com/millesimofficial/zara-l...        Millesim   \n",
       "1  https://soundcloud.com/aash-mehta/let-you-go?i...      Aash Mehta   \n",
       "2  https://soundcloud.com/hardwell/hardwell-feat-...        HARDWELL   \n",
       "3  https://soundcloud.com/hegemon/kdrew-tonight-g...  Hegemon Select   \n",
       "4  https://soundcloud.com/armadamusic/disco-fries...    Armada Music   \n",
       "\n",
       "                                 User_link Play_count Duration  \n",
       "0  https://soundcloud.com/millesimofficial       None     3:54  \n",
       "1        https://soundcloud.com/aash-mehta      8.78M     5:12  \n",
       "2          https://soundcloud.com/hardwell       6.6M     None  \n",
       "3           https://soundcloud.com/hegemon      6.94M     4:03  \n",
       "4       https://soundcloud.com/armadamusic       5.5M     3:20  "
      ]
     },
     "execution_count": 16,
     "metadata": {},
     "output_type": "execute_result"
    }
   ],
   "source": [
    "df_track = pd.read_csv(\"track.csv\", sep = '\\t')\n",
    "df_track.head()"
   ]
  },
  {
   "cell_type": "markdown",
   "metadata": {},
   "source": [
    "- Số dòng, số cột:"
   ]
  },
  {
   "cell_type": "code",
   "execution_count": 17,
   "metadata": {},
   "outputs": [
    {
     "data": {
      "text/plain": [
       "(10725, 6)"
      ]
     },
     "execution_count": 17,
     "metadata": {},
     "output_type": "execute_result"
    }
   ],
   "source": [
    "df_track.shape"
   ]
  },
  {
   "cell_type": "markdown",
   "metadata": {},
   "source": [
    "- Thông tin dữ liệu:"
   ]
  },
  {
   "cell_type": "code",
   "execution_count": 18,
   "metadata": {
    "scrolled": true
   },
   "outputs": [
    {
     "name": "stdout",
     "output_type": "stream",
     "text": [
      "<class 'pandas.core.frame.DataFrame'>\n",
      "RangeIndex: 10725 entries, 0 to 10724\n",
      "Data columns (total 6 columns):\n",
      " #   Column      Non-Null Count  Dtype \n",
      "---  ------      --------------  ----- \n",
      " 0   Track_name  10725 non-null  object\n",
      " 1   Track_link  10725 non-null  object\n",
      " 2   User_name   10725 non-null  object\n",
      " 3   User_link   10725 non-null  object\n",
      " 4   Play_count  10672 non-null  object\n",
      " 5   Duration    10725 non-null  object\n",
      "dtypes: object(6)\n",
      "memory usage: 502.9+ KB\n"
     ]
    }
   ],
   "source": [
    "df_track.info()"
   ]
  },
  {
   "cell_type": "markdown",
   "metadata": {},
   "source": [
    "(Dữ liêu \"Play count\" bị thiếu vì trong lúc khai thác dữ liệu quy định nếu không xuất hiện thông tin thì trả về None)"
   ]
  },
  {
   "cell_type": "markdown",
   "metadata": {},
   "source": [
    "- Chuyển định dạng số ở cột Play count:"
   ]
  },
  {
   "cell_type": "code",
   "execution_count": 64,
   "metadata": {},
   "outputs": [],
   "source": [
    "df = df_track.copy()"
   ]
  },
  {
   "cell_type": "markdown",
   "metadata": {},
   "source": [
    "- Xóa đi những dòng bị thiếu dữ liệu:"
   ]
  },
  {
   "cell_type": "code",
   "execution_count": 65,
   "metadata": {
    "scrolled": true
   },
   "outputs": [
    {
     "name": "stdout",
     "output_type": "stream",
     "text": [
      "<class 'pandas.core.frame.DataFrame'>\n",
      "Int64Index: 9863 entries, 1 to 10724\n",
      "Data columns (total 6 columns):\n",
      " #   Column      Non-Null Count  Dtype \n",
      "---  ------      --------------  ----- \n",
      " 0   Track_name  9863 non-null   object\n",
      " 1   Track_link  9863 non-null   object\n",
      " 2   User_name   9863 non-null   object\n",
      " 3   User_link   9863 non-null   object\n",
      " 4   Play_count  9863 non-null   object\n",
      " 5   Duration    9863 non-null   object\n",
      "dtypes: object(6)\n",
      "memory usage: 539.4+ KB\n"
     ]
    }
   ],
   "source": [
    "df.dropna(axis=0, inplace=True)\n",
    "df = df.mask(df.eq('None')).dropna()\n",
    "df.info()"
   ]
  },
  {
   "cell_type": "markdown",
   "metadata": {},
   "source": [
    "- Chuyển định dạng thuộc tính số lượt nghe(Play count) sang dạng int:"
   ]
  },
  {
   "cell_type": "code",
   "execution_count": 66,
   "metadata": {},
   "outputs": [],
   "source": [
    "df[\"Play_count\"] = df[\"Play_count\"].apply(lambda x: x.replace(',', ''))\n",
    "\n",
    "df[\"Play_count\"] = df[\"Play_count\"].replace({'K': '*1e3', 'M': '*1e6'}, regex=True).map(pd.eval).astype(int)"
   ]
  },
  {
   "cell_type": "code",
   "execution_count": 67,
   "metadata": {},
   "outputs": [
    {
     "data": {
      "text/html": [
       "<div>\n",
       "<style scoped>\n",
       "    .dataframe tbody tr th:only-of-type {\n",
       "        vertical-align: middle;\n",
       "    }\n",
       "\n",
       "    .dataframe tbody tr th {\n",
       "        vertical-align: top;\n",
       "    }\n",
       "\n",
       "    .dataframe thead th {\n",
       "        text-align: right;\n",
       "    }\n",
       "</style>\n",
       "<table border=\"1\" class=\"dataframe\">\n",
       "  <thead>\n",
       "    <tr style=\"text-align: right;\">\n",
       "      <th></th>\n",
       "      <th>Track_name</th>\n",
       "      <th>Track_link</th>\n",
       "      <th>User_name</th>\n",
       "      <th>User_link</th>\n",
       "      <th>Play_count</th>\n",
       "      <th>Duration</th>\n",
       "    </tr>\n",
       "  </thead>\n",
       "  <tbody>\n",
       "    <tr>\n",
       "      <th>1</th>\n",
       "      <td>The Chainsmokers Ft. GGFO - Let You Go (Aash M...</td>\n",
       "      <td>https://soundcloud.com/aash-mehta/let-you-go?i...</td>\n",
       "      <td>Aash Mehta</td>\n",
       "      <td>https://soundcloud.com/aash-mehta</td>\n",
       "      <td>8780000</td>\n",
       "      <td>5:12</td>\n",
       "    </tr>\n",
       "    <tr>\n",
       "      <th>3</th>\n",
       "      <td>KDrew - Tonight (GRMM Remix)</td>\n",
       "      <td>https://soundcloud.com/hegemon/kdrew-tonight-g...</td>\n",
       "      <td>Hegemon Select</td>\n",
       "      <td>https://soundcloud.com/hegemon</td>\n",
       "      <td>6940000</td>\n",
       "      <td>4:03</td>\n",
       "    </tr>\n",
       "    <tr>\n",
       "      <th>4</th>\n",
       "      <td>The Light (Acoustic Version)</td>\n",
       "      <td>https://soundcloud.com/armadamusic/disco-fries...</td>\n",
       "      <td>Armada Music</td>\n",
       "      <td>https://soundcloud.com/armadamusic</td>\n",
       "      <td>5500000</td>\n",
       "      <td>3:20</td>\n",
       "    </tr>\n",
       "    <tr>\n",
       "      <th>5</th>\n",
       "      <td>Halsey - Ghost (Lost Kings Remix)</td>\n",
       "      <td>https://soundcloud.com/wearelostkings/ghost-lo...</td>\n",
       "      <td>Lost Kings</td>\n",
       "      <td>https://soundcloud.com/wearelostkings</td>\n",
       "      <td>9870000</td>\n",
       "      <td>3:07</td>\n",
       "    </tr>\n",
       "    <tr>\n",
       "      <th>6</th>\n",
       "      <td>ODESZA - All We Need (feat. Shy Girls) (Autogr...</td>\n",
       "      <td>https://soundcloud.com/mrsuicidesheep/odesza-a...</td>\n",
       "      <td>MrSuicideSheep</td>\n",
       "      <td>https://soundcloud.com/mrsuicidesheep</td>\n",
       "      <td>8350000</td>\n",
       "      <td>6:11</td>\n",
       "    </tr>\n",
       "    <tr>\n",
       "      <th>...</th>\n",
       "      <td>...</td>\n",
       "      <td>...</td>\n",
       "      <td>...</td>\n",
       "      <td>...</td>\n",
       "      <td>...</td>\n",
       "      <td>...</td>\n",
       "    </tr>\n",
       "    <tr>\n",
       "      <th>10720</th>\n",
       "      <td>Dropout - Handcrafted</td>\n",
       "      <td>https://soundcloud.com/dropoutlive/dropout-han...</td>\n",
       "      <td>dropout</td>\n",
       "      <td>https://soundcloud.com/dropoutlive</td>\n",
       "      <td>652000</td>\n",
       "      <td>3:08</td>\n",
       "    </tr>\n",
       "    <tr>\n",
       "      <th>10721</th>\n",
       "      <td>Better Days (feat. Bogie)</td>\n",
       "      <td>https://soundcloud.com/yourfriendbongi/better-...</td>\n",
       "      <td>Bongi</td>\n",
       "      <td>https://soundcloud.com/yourfriendbongi</td>\n",
       "      <td>112000</td>\n",
       "      <td>3:53</td>\n",
       "    </tr>\n",
       "    <tr>\n",
       "      <th>10722</th>\n",
       "      <td>Gaullin - Moonlight</td>\n",
       "      <td>https://soundcloud.com/gaullinmusic/gaullin-mo...</td>\n",
       "      <td>Gaullin</td>\n",
       "      <td>https://soundcloud.com/gaullinmusic</td>\n",
       "      <td>4420000</td>\n",
       "      <td>2:53</td>\n",
       "    </tr>\n",
       "    <tr>\n",
       "      <th>10723</th>\n",
       "      <td>Taska Black - Losing Our Minds ft. Nevve</td>\n",
       "      <td>https://soundcloud.com/bitbird/taskablack-losi...</td>\n",
       "      <td>bitbird</td>\n",
       "      <td>https://soundcloud.com/bitbird</td>\n",
       "      <td>463000</td>\n",
       "      <td>3:28</td>\n",
       "    </tr>\n",
       "    <tr>\n",
       "      <th>10724</th>\n",
       "      <td>A R I Z O N A - Summer Days (Galantis Remix)</td>\n",
       "      <td>https://soundcloud.com/wearegalantis/arizona-s...</td>\n",
       "      <td>Galantis</td>\n",
       "      <td>https://soundcloud.com/wearegalantis</td>\n",
       "      <td>190000</td>\n",
       "      <td>2:41</td>\n",
       "    </tr>\n",
       "  </tbody>\n",
       "</table>\n",
       "<p>9863 rows × 6 columns</p>\n",
       "</div>"
      ],
      "text/plain": [
       "                                              Track_name  \\\n",
       "1      The Chainsmokers Ft. GGFO - Let You Go (Aash M...   \n",
       "3                           KDrew - Tonight (GRMM Remix)   \n",
       "4                           The Light (Acoustic Version)   \n",
       "5                      Halsey - Ghost (Lost Kings Remix)   \n",
       "6      ODESZA - All We Need (feat. Shy Girls) (Autogr...   \n",
       "...                                                  ...   \n",
       "10720                              Dropout - Handcrafted   \n",
       "10721                          Better Days (feat. Bogie)   \n",
       "10722                                Gaullin - Moonlight   \n",
       "10723           Taska Black - Losing Our Minds ft. Nevve   \n",
       "10724       A R I Z O N A - Summer Days (Galantis Remix)   \n",
       "\n",
       "                                              Track_link       User_name  \\\n",
       "1      https://soundcloud.com/aash-mehta/let-you-go?i...      Aash Mehta   \n",
       "3      https://soundcloud.com/hegemon/kdrew-tonight-g...  Hegemon Select   \n",
       "4      https://soundcloud.com/armadamusic/disco-fries...    Armada Music   \n",
       "5      https://soundcloud.com/wearelostkings/ghost-lo...      Lost Kings   \n",
       "6      https://soundcloud.com/mrsuicidesheep/odesza-a...  MrSuicideSheep   \n",
       "...                                                  ...             ...   \n",
       "10720  https://soundcloud.com/dropoutlive/dropout-han...         dropout   \n",
       "10721  https://soundcloud.com/yourfriendbongi/better-...           Bongi   \n",
       "10722  https://soundcloud.com/gaullinmusic/gaullin-mo...         Gaullin   \n",
       "10723  https://soundcloud.com/bitbird/taskablack-losi...         bitbird   \n",
       "10724  https://soundcloud.com/wearegalantis/arizona-s...        Galantis   \n",
       "\n",
       "                                    User_link  Play_count Duration  \n",
       "1           https://soundcloud.com/aash-mehta     8780000     5:12  \n",
       "3              https://soundcloud.com/hegemon     6940000     4:03  \n",
       "4          https://soundcloud.com/armadamusic     5500000     3:20  \n",
       "5       https://soundcloud.com/wearelostkings     9870000     3:07  \n",
       "6       https://soundcloud.com/mrsuicidesheep     8350000     6:11  \n",
       "...                                       ...         ...      ...  \n",
       "10720      https://soundcloud.com/dropoutlive      652000     3:08  \n",
       "10721  https://soundcloud.com/yourfriendbongi      112000     3:53  \n",
       "10722     https://soundcloud.com/gaullinmusic     4420000     2:53  \n",
       "10723          https://soundcloud.com/bitbird      463000     3:28  \n",
       "10724    https://soundcloud.com/wearegalantis      190000     2:41  \n",
       "\n",
       "[9863 rows x 6 columns]"
      ]
     },
     "execution_count": 67,
     "metadata": {},
     "output_type": "execute_result"
    }
   ],
   "source": [
    "df"
   ]
  },
  {
   "cell_type": "code",
   "execution_count": 70,
   "metadata": {},
   "outputs": [],
   "source": [
    "df['Track_link'] = df['Track_link'].replace(' ', '').astype(str)\n",
    "df['Track_link'] = df['Track_link'].replace('\\n', '').astype(str)\n",
    "test = df.drop_duplicates(subset=['Track_link'], keep='first')\n",
    "# test = test.sort_values(['Play_link'], ascending=0)\n",
    "# test"
   ]
  },
  {
   "cell_type": "code",
   "execution_count": 95,
   "metadata": {},
   "outputs": [],
   "source": [
    "df_1 = test.sort_values('Play_count', ascending = True).head(15)"
   ]
  },
  {
   "cell_type": "code",
   "execution_count": 96,
   "metadata": {},
   "outputs": [
    {
     "data": {
      "text/plain": [
       "(array([   0.,  500., 1000., 1500., 2000., 2500., 3000.]),\n",
       " <a list of 7 Text major ticklabel objects>)"
      ]
     },
     "execution_count": 96,
     "metadata": {},
     "output_type": "execute_result"
    },
    {
     "data": {
      "image/png": "[encoded data removed]",
      "text/plain": [
       "<Figure size 864x576 with 1 Axes>"
      ]
     },
     "metadata": {},
     "output_type": "display_data"
    }
   ],
   "source": [
    "sns.set(rc={'figure.figsize':(12,8)})\n",
    "fig = plt.figure()\n",
    "ax = fig.add_subplot(111)\n",
    "ax.barh(df_1.Track_name, df_1.Play_count, fill='black', color=\"#2ecc71\", edgecolor=['black'])\n",
    "plt.xticks(rotation=90)"
   ]
  },
  {
   "cell_type": "code",
   "execution_count": 91,
   "metadata": {},
   "outputs": [],
   "source": [
    "df_1 = df_1.sort_values('Play_count', ascending = False)"
   ]
  },
  {
   "cell_type": "code",
   "execution_count": 92,
   "metadata": {},
   "outputs": [
    {
     "data": {
      "text/html": [
       "<div>\n",
       "<style scoped>\n",
       "    .dataframe tbody tr th:only-of-type {\n",
       "        vertical-align: middle;\n",
       "    }\n",
       "\n",
       "    .dataframe tbody tr th {\n",
       "        vertical-align: top;\n",
       "    }\n",
       "\n",
       "    .dataframe thead th {\n",
       "        text-align: right;\n",
       "    }\n",
       "</style>\n",
       "<table border=\"1\" class=\"dataframe\">\n",
       "  <thead>\n",
       "    <tr style=\"text-align: right;\">\n",
       "      <th></th>\n",
       "      <th>Track_name</th>\n",
       "      <th>Track_link</th>\n",
       "      <th>User_name</th>\n",
       "      <th>User_link</th>\n",
       "      <th>Play_count</th>\n",
       "      <th>Duration</th>\n",
       "    </tr>\n",
       "  </thead>\n",
       "  <tbody>\n",
       "    <tr>\n",
       "      <th>14</th>\n",
       "      <td>Halsey - Ghost (Lost Kings Remix)</td>\n",
       "      <td>https://soundcloud.com/wearelostkings/ghost-lo...</td>\n",
       "      <td>Lost Kings</td>\n",
       "      <td>https://soundcloud.com/wearelostkings</td>\n",
       "      <td>9870000</td>\n",
       "      <td>3:07</td>\n",
       "    </tr>\n",
       "    <tr>\n",
       "      <th>13</th>\n",
       "      <td>The Chainsmokers Ft. GGFO - Let You Go (Aash M...</td>\n",
       "      <td>https://soundcloud.com/aash-mehta/let-you-go?i...</td>\n",
       "      <td>Aash Mehta</td>\n",
       "      <td>https://soundcloud.com/aash-mehta</td>\n",
       "      <td>8780000</td>\n",
       "      <td>5:12</td>\n",
       "    </tr>\n",
       "    <tr>\n",
       "      <th>12</th>\n",
       "      <td>ODESZA - All We Need (feat. Shy Girls) (Autogr...</td>\n",
       "      <td>https://soundcloud.com/mrsuicidesheep/odesza-a...</td>\n",
       "      <td>MrSuicideSheep</td>\n",
       "      <td>https://soundcloud.com/mrsuicidesheep</td>\n",
       "      <td>8350000</td>\n",
       "      <td>6:11</td>\n",
       "    </tr>\n",
       "    <tr>\n",
       "      <th>11</th>\n",
       "      <td>KDrew - Tonight (GRMM Remix)</td>\n",
       "      <td>https://soundcloud.com/hegemon/kdrew-tonight-g...</td>\n",
       "      <td>Hegemon Select</td>\n",
       "      <td>https://soundcloud.com/hegemon</td>\n",
       "      <td>6940000</td>\n",
       "      <td>4:03</td>\n",
       "    </tr>\n",
       "    <tr>\n",
       "      <th>10</th>\n",
       "      <td>The Light (Acoustic Version)</td>\n",
       "      <td>https://soundcloud.com/armadamusic/disco-fries...</td>\n",
       "      <td>Armada Music</td>\n",
       "      <td>https://soundcloud.com/armadamusic</td>\n",
       "      <td>5500000</td>\n",
       "      <td>3:20</td>\n",
       "    </tr>\n",
       "    <tr>\n",
       "      <th>9</th>\n",
       "      <td>Panda Eyes - KIKO</td>\n",
       "      <td>https://soundcloud.com/officialpandaeyes/panda...</td>\n",
       "      <td>Panda Eyes</td>\n",
       "      <td>https://soundcloud.com/officialpandaeyes</td>\n",
       "      <td>4250000</td>\n",
       "      <td>5:13</td>\n",
       "    </tr>\n",
       "    <tr>\n",
       "      <th>8</th>\n",
       "      <td>Mixtape N°4 - Kungs (TRACKLIST OUT)</td>\n",
       "      <td>https://soundcloud.com/le-comptoir-auditif/mix...</td>\n",
       "      <td>Le Comptoir Auditif</td>\n",
       "      <td>https://soundcloud.com/le-comptoir-auditif</td>\n",
       "      <td>3090000</td>\n",
       "      <td>56:14</td>\n",
       "    </tr>\n",
       "    <tr>\n",
       "      <th>7</th>\n",
       "      <td>Ed Sheeran - Thinking Out Loud (Xander Remix)</td>\n",
       "      <td>https://soundcloud.com/mrsuicidesheep/ed-sheer...</td>\n",
       "      <td>MrSuicideSheep</td>\n",
       "      <td>https://soundcloud.com/mrsuicidesheep</td>\n",
       "      <td>2960000</td>\n",
       "      <td>4:47</td>\n",
       "    </tr>\n",
       "    <tr>\n",
       "      <th>6</th>\n",
       "      <td>Calvin Harris - I Need Your Love Ft Ellie Goul...</td>\n",
       "      <td>https://soundcloud.com/aflo35/calvin-harris-i-...</td>\n",
       "      <td>Aflo.</td>\n",
       "      <td>https://soundcloud.com/aflo35</td>\n",
       "      <td>2920000</td>\n",
       "      <td>5:20</td>\n",
       "    </tr>\n",
       "    <tr>\n",
       "      <th>5</th>\n",
       "      <td>Little Dragon - Twice (Tora Cover)</td>\n",
       "      <td>https://soundcloud.com/toramusic/twice?in=elia...</td>\n",
       "      <td>Tora</td>\n",
       "      <td>https://soundcloud.com/toramusic</td>\n",
       "      <td>1990000</td>\n",
       "      <td>3:03</td>\n",
       "    </tr>\n",
       "    <tr>\n",
       "      <th>4</th>\n",
       "      <td>Jagged Edge - Where The Party At?(Viceroy \"Jet...</td>\n",
       "      <td>https://soundcloud.com/viceroymusic/jagged-edg...</td>\n",
       "      <td>VICEROY</td>\n",
       "      <td>https://soundcloud.com/viceroymusic</td>\n",
       "      <td>1880000</td>\n",
       "      <td>4:40</td>\n",
       "    </tr>\n",
       "    <tr>\n",
       "      <th>3</th>\n",
       "      <td>The Paper Kites - Bloom (Colin Parker Remix) [...</td>\n",
       "      <td>https://soundcloud.com/colinparkermusic/the-pa...</td>\n",
       "      <td>Colin Parker</td>\n",
       "      <td>https://soundcloud.com/colinparkermusic</td>\n",
       "      <td>1550000</td>\n",
       "      <td>3:21</td>\n",
       "    </tr>\n",
       "    <tr>\n",
       "      <th>2</th>\n",
       "      <td>U Luv Me Like [NOW ON SPOTIFY]</td>\n",
       "      <td>https://soundcloud.com/hxlykxss/u-luv-me-like?...</td>\n",
       "      <td>HXLY KXSS</td>\n",
       "      <td>https://soundcloud.com/hxlykxss</td>\n",
       "      <td>1420000</td>\n",
       "      <td>3:38</td>\n",
       "    </tr>\n",
       "    <tr>\n",
       "      <th>1</th>\n",
       "      <td>Patawawa &amp; Roman Kouder - Back to Life</td>\n",
       "      <td>https://soundcloud.com/roman-kouder/patawawa-r...</td>\n",
       "      <td>Roman Kouder</td>\n",
       "      <td>https://soundcloud.com/roman-kouder</td>\n",
       "      <td>1220000</td>\n",
       "      <td>3:40</td>\n",
       "    </tr>\n",
       "    <tr>\n",
       "      <th>0</th>\n",
       "      <td>Just Kiddin - Thinking About It (Ghassemi Remix)</td>\n",
       "      <td>https://soundcloud.com/ghassemiofficial/just-k...</td>\n",
       "      <td>Ghassemi (Official)</td>\n",
       "      <td>https://soundcloud.com/ghassemiofficial</td>\n",
       "      <td>1100000</td>\n",
       "      <td>3:29</td>\n",
       "    </tr>\n",
       "  </tbody>\n",
       "</table>\n",
       "</div>"
      ],
      "text/plain": [
       "                                           Track_name  \\\n",
       "14                  Halsey - Ghost (Lost Kings Remix)   \n",
       "13  The Chainsmokers Ft. GGFO - Let You Go (Aash M...   \n",
       "12  ODESZA - All We Need (feat. Shy Girls) (Autogr...   \n",
       "11                       KDrew - Tonight (GRMM Remix)   \n",
       "10                       The Light (Acoustic Version)   \n",
       "9                                   Panda Eyes - KIKO   \n",
       "8                 Mixtape N°4 - Kungs (TRACKLIST OUT)   \n",
       "7       Ed Sheeran - Thinking Out Loud (Xander Remix)   \n",
       "6   Calvin Harris - I Need Your Love Ft Ellie Goul...   \n",
       "5                  Little Dragon - Twice (Tora Cover)   \n",
       "4   Jagged Edge - Where The Party At?(Viceroy \"Jet...   \n",
       "3   The Paper Kites - Bloom (Colin Parker Remix) [...   \n",
       "2                      U Luv Me Like [NOW ON SPOTIFY]   \n",
       "1              Patawawa & Roman Kouder - Back to Life   \n",
       "0    Just Kiddin - Thinking About It (Ghassemi Remix)   \n",
       "\n",
       "                                           Track_link            User_name  \\\n",
       "14  https://soundcloud.com/wearelostkings/ghost-lo...           Lost Kings   \n",
       "13  https://soundcloud.com/aash-mehta/let-you-go?i...           Aash Mehta   \n",
       "12  https://soundcloud.com/mrsuicidesheep/odesza-a...       MrSuicideSheep   \n",
       "11  https://soundcloud.com/hegemon/kdrew-tonight-g...       Hegemon Select   \n",
       "10  https://soundcloud.com/armadamusic/disco-fries...         Armada Music   \n",
       "9   https://soundcloud.com/officialpandaeyes/panda...           Panda Eyes   \n",
       "8   https://soundcloud.com/le-comptoir-auditif/mix...  Le Comptoir Auditif   \n",
       "7   https://soundcloud.com/mrsuicidesheep/ed-sheer...       MrSuicideSheep   \n",
       "6   https://soundcloud.com/aflo35/calvin-harris-i-...                Aflo.   \n",
       "5   https://soundcloud.com/toramusic/twice?in=elia...                 Tora   \n",
       "4   https://soundcloud.com/viceroymusic/jagged-edg...              VICEROY   \n",
       "3   https://soundcloud.com/colinparkermusic/the-pa...         Colin Parker   \n",
       "2   https://soundcloud.com/hxlykxss/u-luv-me-like?...            HXLY KXSS   \n",
       "1   https://soundcloud.com/roman-kouder/patawawa-r...         Roman Kouder   \n",
       "0   https://soundcloud.com/ghassemiofficial/just-k...  Ghassemi (Official)   \n",
       "\n",
       "                                     User_link  Play_count Duration  \n",
       "14       https://soundcloud.com/wearelostkings     9870000     3:07  \n",
       "13           https://soundcloud.com/aash-mehta     8780000     5:12  \n",
       "12       https://soundcloud.com/mrsuicidesheep     8350000     6:11  \n",
       "11              https://soundcloud.com/hegemon     6940000     4:03  \n",
       "10          https://soundcloud.com/armadamusic     5500000     3:20  \n",
       "9     https://soundcloud.com/officialpandaeyes     4250000     5:13  \n",
       "8   https://soundcloud.com/le-comptoir-auditif     3090000    56:14  \n",
       "7        https://soundcloud.com/mrsuicidesheep     2960000     4:47  \n",
       "6                https://soundcloud.com/aflo35     2920000     5:20  \n",
       "5             https://soundcloud.com/toramusic     1990000     3:03  \n",
       "4          https://soundcloud.com/viceroymusic     1880000     4:40  \n",
       "3      https://soundcloud.com/colinparkermusic     1550000     3:21  \n",
       "2              https://soundcloud.com/hxlykxss     1420000     3:38  \n",
       "1          https://soundcloud.com/roman-kouder     1220000     3:40  \n",
       "0      https://soundcloud.com/ghassemiofficial     1100000     3:29  "
      ]
     },
     "execution_count": 92,
     "metadata": {},
     "output_type": "execute_result"
    }
   ],
   "source": [
    "df_1"
   ]
  },
  {
   "cell_type": "code",
   "execution_count": null,
   "metadata": {},
   "outputs": [],
   "source": []
  }
 ],
 "metadata": {
  "kernelspec": {
   "display_name": "Python 3",
   "language": "python",
   "name": "python3"
  },
  "language_info": {
   "codemirror_mode": {
    "name": "ipython",
    "version": 3
   },
   "file_extension": ".py",
   "mimetype": "text/x-python",
   "name": "python",
   "nbconvert_exporter": "python",
   "pygments_lexer": "ipython3",
   "version": "3.7.6"
  },
  "toc": {
   "base_numbering": 1,
   "nav_menu": {},
   "number_sections": true,
   "sideBar": true,
   "skip_h1_title": false,
   "title_cell": "Table of Contents",
   "title_sidebar": "Contents",
   "toc_cell": false,
   "toc_position": {},
   "toc_section_display": true,
   "toc_window_display": false
  }
 },
 "nbformat": 4,
 "nbformat_minor": 4
}
