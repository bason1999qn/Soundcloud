{
 "cells": [
  {
   "cell_type": "markdown",
   "metadata": {},
   "source": [
    "\n",
    "<font size=\"5\">**<center> ĐỒ ÁN 01 </center>** </font>\n",
    "\n",
    "<font size=\"4\">**<center> Thu nhập dữ liệu & EDA </center>** </font>\n",
    "\n",
    "> Họ tên: Thái Bá Sơn\n",
    "\n",
    "> MSSV: 1712732"
   ]
  },
  {
   "cell_type": "markdown",
   "metadata": {},
   "source": [
    "# I/ Dữ liệu"
   ]
  },
  {
   "cell_type": "markdown",
   "metadata": {},
   "source": [
    "### Thông tin về dữ liệu:"
   ]
  },
  {
   "cell_type": "markdown",
   "metadata": {},
   "source": [
    "Dữ liệu này cung cấp thành tích học tập và các thông tin liên quan của học sinh trung học ở 2 trường của Bồ Đào Nha. Cụ thể các thuộc tính dữ liệu bao gồm điểm tổng kết, yếu tố tác động như tình trạng, hoàn cảnh gia đình... được thu thập bằng cách sử dụng thông tin mà nhà trường cung cấp và phiếu khảo sát từ các học sinh.  \n",
    "\n",
    "**Nguồn:** dữ liệu được lấy [tại đây](https://www.kaggle.com/dipam7/student-grade-prediction)"
   ]
  },
  {
   "cell_type": "markdown",
   "metadata": {},
   "source": [
    "# II/ Khám phá dữ liệu:"
   ]
  },
  {
   "cell_type": "markdown",
   "metadata": {},
   "source": [
    "## 1/ Thu thập dữ liệu:"
   ]
  },
  {
   "cell_type": "markdown",
   "metadata": {},
   "source": [
    "### Import"
   ]
  },
  {
   "cell_type": "code",
   "execution_count": 22,
   "metadata": {},
   "outputs": [
    {
     "name": "stdout",
     "output_type": "stream",
     "text": [
      "Collecting soundcloud\n",
      "  Downloading soundcloud-0.5.0.tar.gz (10 kB)\n",
      "Collecting fudge>=1.0.3\n",
      "  Downloading fudge-1.1.1.tar.gz (87 kB)\n",
      "Requirement already satisfied: requests>=0.14.0 in c:\\users\\dell\\anaconda3\\lib\\site-packages (from soundcloud) (2.24.0)\n",
      "Collecting simplejson>=2.0\n",
      "  Downloading simplejson-3.17.2-cp37-cp37m-win_amd64.whl (73 kB)\n",
      "Requirement already satisfied: certifi>=2017.4.17 in c:\\users\\dell\\anaconda3\\lib\\site-packages (from requests>=0.14.0->soundcloud) (2020.6.20)\n",
      "Requirement already satisfied: urllib3!=1.25.0,!=1.25.1,<1.26,>=1.21.1 in c:\\users\\dell\\anaconda3\\lib\\site-packages (from requests>=0.14.0->soundcloud) (1.25.10)\n",
      "Requirement already satisfied: chardet<4,>=3.0.2 in c:\\users\\dell\\anaconda3\\lib\\site-packages (from requests>=0.14.0->soundcloud) (3.0.4)\n",
      "Requirement already satisfied: idna<3,>=2.5 in c:\\users\\dell\\anaconda3\\lib\\site-packages (from requests>=0.14.0->soundcloud) (2.10)\n",
      "Building wheels for collected packages: soundcloud, fudge\n",
      "  Building wheel for soundcloud (setup.py): started\n",
      "  Building wheel for soundcloud (setup.py): finished with status 'done'\n",
      "  Created wheel for soundcloud: filename=soundcloud-0.5.0-py3-none-any.whl size=12545 sha256=824e7410ca9626325295f0618091d9bd2be09a782a86ab44d3f2606e21fe3550\n",
      "  Stored in directory: c:\\users\\dell\\appdata\\local\\pip\\cache\\wheels\\b5\\c6\\7a\\b568cd85b47dd88abcea5461cf14677905625cdcbc4ffcbee1\n",
      "  Building wheel for fudge (setup.py): started\n",
      "  Building wheel for fudge (setup.py): finished with status 'done'\n",
      "  Created wheel for fudge: filename=fudge-1.1.1-py3-none-any.whl size=33910 sha256=cf2577266fc295f75b68ace9ddc1a6006d678fda0c395e9cc36846cfb3cccc8d\n",
      "  Stored in directory: c:\\users\\dell\\appdata\\local\\pip\\cache\\wheels\\54\\d9\\66\\b00600b4853459997d283c9e5e9f011760cb795e768c35a962\n",
      "Successfully built soundcloud fudge\n",
      "Installing collected packages: fudge, simplejson, soundcloud\n",
      "Successfully installed fudge-1.1.1 simplejson-3.17.2 soundcloud-0.5.0\n",
      "Note: you may need to restart the kernel to use updated packages.\n"
     ]
    }
   ],
   "source": [
    "pip install soundcloud"
   ]
  },
  {
   "cell_type": "code",
   "execution_count": 1,
   "metadata": {},
   "outputs": [],
   "source": [
    "import requests\n",
    "import json\n",
    "import time # Dùng để sleep chương trình\n",
    "import pandas as pd # Dùng để đọc và hiển thị file csv (Pandas sẽ được học chi tiết ở buổi tới)\n",
    "import datetime as dt # Dùng để xử lý dữ liệu thời gian\n",
    "import re\n",
    "import soundcloud\n",
    "import logging\n",
    "#Import thư viện:\n",
    "from requests_html import HTMLSession, HTML\n",
    "from selenium.webdriver.common.keys import Keys\n",
    "from selenium import webdriver\n",
    "from webdriver_manager.chrome import ChromeDriverManager"
   ]
  },
  {
   "cell_type": "markdown",
   "metadata": {},
   "source": [
    "### a/ API:"
   ]
  },
  {
   "cell_type": "markdown",
   "metadata": {},
   "source": [
    "Link mẫu thông số API: https://stackoverflow.com/questions/18632072/how-to-get-total-number-of-tracks-in-a-playlist-using-soundcloud-json-api\n",
    "\n",
    "Link mẫu ID format: https://developers.soundcloud.com/docs/api/reference#tracks"
   ]
  },
  {
   "cell_type": "code",
   "execution_count": 50,
   "metadata": {},
   "outputs": [
    {
     "name": "stdout",
     "output_type": "stream",
     "text": [
      "Collecting soundcloud-lib\n",
      "  Downloading soundcloud-lib-0.5.4.tar.gz (7.0 kB)\n",
      "Collecting mutagen\n",
      "  Downloading mutagen-1.45.1-py3-none-any.whl (218 kB)\n",
      "Requirement already satisfied: bs4 in c:\\users\\dell\\anaconda3\\lib\\site-packages (from soundcloud-lib) (0.0.1)\n",
      "Requirement already satisfied: aiohttp in c:\\users\\dell\\anaconda3\\lib\\site-packages (from soundcloud-lib) (3.6.2)\n",
      "Requirement already satisfied: beautifulsoup4 in c:\\users\\dell\\anaconda3\\lib\\site-packages (from bs4->soundcloud-lib) (4.8.2)\n",
      "Requirement already satisfied: multidict<5.0,>=4.5 in c:\\users\\dell\\anaconda3\\lib\\site-packages (from aiohttp->soundcloud-lib) (4.7.6)\n",
      "Requirement already satisfied: async-timeout<4.0,>=3.0 in c:\\users\\dell\\anaconda3\\lib\\site-packages (from aiohttp->soundcloud-lib) (3.0.1)\n",
      "Requirement already satisfied: attrs>=17.3.0 in c:\\users\\dell\\anaconda3\\lib\\site-packages (from aiohttp->soundcloud-lib) (20.2.0)\n",
      "Requirement already satisfied: chardet<4.0,>=2.0 in c:\\users\\dell\\anaconda3\\lib\\site-packages (from aiohttp->soundcloud-lib) (3.0.4)\n",
      "Requirement already satisfied: yarl<2.0,>=1.0 in c:\\users\\dell\\anaconda3\\lib\\site-packages (from aiohttp->soundcloud-lib) (1.6.0)\n",
      "Requirement already satisfied: soupsieve>=1.2 in c:\\users\\dell\\anaconda3\\lib\\site-packages (from beautifulsoup4->bs4->soundcloud-lib) (1.9.5)\n",
      "Requirement already satisfied: idna>=2.0 in c:\\users\\dell\\anaconda3\\lib\\site-packages (from yarl<2.0,>=1.0->aiohttp->soundcloud-lib) (2.10)\n",
      "Requirement already satisfied: typing-extensions>=3.7.4; python_version < \"3.8\" in c:\\users\\dell\\anaconda3\\lib\\site-packages (from yarl<2.0,>=1.0->aiohttp->soundcloud-lib) (3.7.4.3)\n",
      "Building wheels for collected packages: soundcloud-lib\n",
      "  Building wheel for soundcloud-lib (setup.py): started\n",
      "  Building wheel for soundcloud-lib (setup.py): finished with status 'done'\n",
      "  Created wheel for soundcloud-lib: filename=soundcloud_lib-0.5.4-py3-none-any.whl size=8216 sha256=384443932e2eef876336ca182c701acbd7c8f574f2f20ff5feaa053f71a51954\n",
      "  Stored in directory: c:\\users\\dell\\appdata\\local\\pip\\cache\\wheels\\e3\\3e\\87\\9cc85e4017ad772cd3b9c725d5d5a5fce64515a066c3d088a2\n",
      "Successfully built soundcloud-lib\n",
      "Installing collected packages: mutagen, soundcloud-lib\n",
      "Successfully installed mutagen-1.45.1 soundcloud-lib-0.5.4\n",
      "Note: you may need to restart the kernel to use updated packages.\n"
     ]
    }
   ],
   "source": [
    "#pip install soundcloud-lib"
   ]
  },
  {
   "cell_type": "code",
   "execution_count": 84,
   "metadata": {
    "scrolled": true
   },
   "outputs": [
    {
     "name": "stdout",
     "output_type": "stream",
     "text": [
      "noel s - lift\n",
      "\n",
      "Richard Griffith - Midnight Walk\n",
      "\n",
      "Gorila - Akaido\n",
      "\n",
      "Joey Pecoraro - Partly Sunny\n",
      "\n",
      "Tom Misch & Carmody - Paper Planes\n",
      "\n",
      "HONNE - Woman\n",
      "\n",
      "Kupla - fell in love in a dream\n",
      "\n",
      "Gagle - Love Note (Original Instrumental)\n",
      "\n",
      "Amy Winehouse - Rehab (Tom Misch Remix)\n",
      "\n",
      "EDEN - Fumes (feat. gnash)\n",
      "\n",
      "Tom Misch - Dawsons Heights\n",
      "\n",
      "Kendall Miles - Her (feat. a l e x)\n",
      "\n",
      "Lazy Lewis - White Winds\n",
      "\n",
      "j'san. - under the trees\n",
      "\n",
      "Jaiza Trio - Chucho (Paquito D'Rivera)\n",
      "\n",
      "saib. - Sakura Trees\n",
      "\n",
      "DeKobe - Raining\n",
      "\n",
      "tom holmes - Evening Jazz 3 (live)\n",
      "\n",
      "jack cc & 626 - j bags\n",
      "\n",
      "Kupla - still breathing\n",
      "\n",
      "Matt Simons - Catch & Release (Deepend Remix) - [OUT NOW!!]\n",
      "\n",
      "Lazy Lewis - Diamond Dreams\n",
      "\n",
      "Trazzhnef Complications 2econd - Sanity Canopy\n",
      "\n",
      "prima - see you soon.\n",
      "\n",
      "Slowz - Holding You (Stan Sax Edit)\n",
      "\n",
      "Lazy Lewis - Dancing Days\n",
      "\n",
      "Simon Jefferis - George Lassos the Moon\n",
      "\n",
      "Yaoundé (OGSE - Olivier Gay Small Ensemble)\n",
      "\n",
      "Stephen Onprachanh - Paradise (Demo)\n",
      "\n",
      "tom holmes - Afternoon Jazz Beatz (Chillhop)\n",
      "\n",
      "Aso - My (Now on Spotify)\n",
      "\n",
      "Aso - Timeless\n",
      "\n",
      "Jazzinuf - Cook Out Feat. Henry Solomon (TY for 7K)\n",
      "\n",
      "tom holmes - Mellow Jazzhop (headphone mix)\n",
      "\n",
      "danhernan - Bird\n",
      "\n",
      "Sarah Vaughan - Lullaby of Birdland\n",
      "\n",
      "Phil Smiff - lake.side\n",
      "\n",
      "Jamyang - Things We Ought To Say\n",
      "\n",
      "Jazzinuf - Oreos (Intro)\n",
      "\n",
      "rikinish - Beautiful Life\n",
      "\n",
      "Asa Greenwood - Floresta\n",
      "\n",
      "JanneK - 2015 Sailing\n",
      "\n",
      "risky patterns - sakura `\n",
      "\n",
      "Kendall Miles - Youth\n",
      "\n",
      "Alembic - exceptions\n",
      "\n",
      "jedda 41 - desmond\n",
      "\n",
      "RKCB - Ignite\n",
      "\n",
      "Remi Oz レミオズ - Samba (Now Available on Bandcamp)\n",
      "\n",
      "Zvitch' - Stop The Rain\n",
      "\n",
      "DUSTERA - NEIGHBORHOOD WATCH//007\n",
      "\n",
      "Jooosh - till next time\n",
      "\n",
      "Lianne La Havas - Don't Wake Me Up (Live in LA)\n",
      "\n",
      "billie eilish - ocean eyes (blackbear remix)\n",
      "\n",
      "5 YEARS OLD - LOTS MORE MUSIC FROM ME TO DISCOVER Abstract- Neverland (ft. Ruth B) Prod. By Blulake\n",
      "\n"
     ]
    }
   ],
   "source": [
    "from sclib import SoundcloudAPI, Track, Playlist\n",
    "\n",
    "api = SoundcloudAPI()  # never pass a Soundcloud client ID that did not come from this library\n",
    "\n",
    "# playlist = api.resolve('https://soundcloud.com/s-n-th-i-6/sets/sitatc')\n",
    "playlist = api.resolve('https://soundcloud.com/yeonkkot/sets/s12')\n",
    "for track in playlist.tracks:\n",
    "    print(\"{} - {}\\n\".format(track.artist, track.title))"
   ]
  },
  {
   "cell_type": "markdown",
   "metadata": {},
   "source": [
    "Link: https://stackoverflow.com/questions/40992480/getting-a-soundcloud-api-client-id"
   ]
  },
  {
   "cell_type": "markdown",
   "metadata": {},
   "source": [
    "### b/ parse HTML:"
   ]
  },
  {
   "cell_type": "markdown",
   "metadata": {},
   "source": [
    "- Sử dụng thư viện selenium tương tác với trang chủ Soundcloud để lấy thông tin về link các playlist:"
   ]
  },
  {
   "cell_type": "code",
   "execution_count": 2,
   "metadata": {
    "scrolled": true
   },
   "outputs": [
    {
     "name": "stderr",
     "output_type": "stream",
     "text": [
      "[WDM] - Current google-chrome version is 86.0.4240\n",
      "[WDM] - Get LATEST driver version for 86.0.4240\n"
     ]
    },
    {
     "name": "stdout",
     "output_type": "stream",
     "text": [
      " \n"
     ]
    },
    {
     "name": "stderr",
     "output_type": "stream",
     "text": [
      "[WDM] - Get LATEST driver version for 86.0.4240\n",
      "[WDM] - Trying to download new driver from http://chromedriver.storage.googleapis.com/86.0.4240.22/chromedriver_win32.zip\n",
      "[WDM] - Driver has been saved in cache [C:\\Users\\dell\\.wdm\\drivers\\chromedriver\\win32\\86.0.4240.22]\n"
     ]
    }
   ],
   "source": [
    "# Mở Chrome và cho full màn hình\n",
    "browser = webdriver.Chrome(ChromeDriverManager().install())\n",
    "browser.maximize_window()"
   ]
  },
  {
   "cell_type": "code",
   "execution_count": 194,
   "metadata": {},
   "outputs": [],
   "source": [
    "#Tải trang cho đến hết:\n",
    "def load_link(browser, link):\n",
    "    #Vào link:\n",
    "    browser.get(link)\n",
    "    \n",
    "    #Xóa quảng cáo:\n",
    "    dismiss = browser.find_elements_by_class_name('announcement__dismiss')\n",
    "    dismiss[0].click()\n",
    "    \n",
    "    #Cuộn trang\n",
    "    SCROLL_PAUSE_TIME = 0.5\n",
    "\n",
    "    # Get scroll height\n",
    "    last_height = browser.execute_script(\"return document.body.scrollHeight\")\n",
    "\n",
    "    while True:\n",
    "        # Scroll down to bottom\n",
    "        browser.execute_script(\"window.scrollTo(0, document.body.scrollHeight);\")\n",
    "\n",
    "        # Wait to load page\n",
    "        time.sleep(SCROLL_PAUSE_TIME)\n",
    "\n",
    "        # Calculate new scroll height and compare with last scroll height\n",
    "        new_height = browser.execute_script(\"return document.body.scrollHeight\")\n",
    "        if new_height == last_height:\n",
    "            break\n",
    "        last_height = new_height"
   ]
  },
  {
   "cell_type": "code",
   "execution_count": 5,
   "metadata": {},
   "outputs": [],
   "source": [
    "link_browser = 'https://soundcloud.com/discover'\n",
    "\n",
    "#Mở trang chủ của Soundcloud và load trang: \n",
    "load_link(browser, link_browser)\n",
    "\n",
    "#Chờ trang tải:\n",
    "time.sleep(4)\n",
    "\n",
    "#load toàn bộ trang để hiện nhiều playlist nhất \n",
    "buttons = browser.find_elements_by_class_name('tileGallery__sliderPeekForward')\n",
    "t = 0\n",
    "l = len(buttons)\n",
    "while t < l: \n",
    "    if buttons[t].is_displayed():\n",
    "        buttons[t].click()\n",
    "    else:\n",
    "        browser.execute_script(\"window.scrollTo(0, document.body.scrollHeight);\")\n",
    "        t+=1"
   ]
  },
  {
   "cell_type": "code",
   "execution_count": 6,
   "metadata": {},
   "outputs": [
    {
     "name": "stdout",
     "output_type": "stream",
     "text": [
      "Số link playlist thu được:  300\n"
     ]
    }
   ],
   "source": [
    "# Xuất link tất cả playlist\n",
    "playlists = browser.find_elements_by_class_name('audibleTile__audibleHeading')\n",
    "print(\"Số link playlist thu được: \", len(playlists))\n",
    "\n",
    "#Xuất kết quả vào file link_playlists.txt\n",
    "f = open('link_playlists.txt', 'w')\n",
    "for playlist in playlists:\n",
    "    if playlist.get_attribute('href'):\n",
    "        f.write(\"{}\\n\".format(playlist.get_attribute('href')))\n",
    "f.close()\n"
   ]
  },
  {
   "cell_type": "markdown",
   "metadata": {},
   "source": [
    "### Lọc thông tin về track từ danh sách link playlist:"
   ]
  },
  {
   "cell_type": "code",
   "execution_count": 238,
   "metadata": {},
   "outputs": [],
   "source": [
    "def get_playlist_info(filename, browser, link):\n",
    "    #mở file\n",
    "    f = open(filename, 'w', encoding='utf-8')\n",
    "    f.write('user_name,user_link,track_name,playcount,track_duration\\n')\n",
    "    #Tải hết trang:\n",
    "    load_link(browser, link)\n",
    "    \n",
    "    PAUSE_TIME = 0.2\n",
    "    \n",
    "    #Tìm phần tử:\n",
    "    time.sleep(5)\n",
    "    users = browser.find_elements_by_class_name('trackItem__username')\n",
    "    playcounts = browser.find_elements_by_class_name('trackItem__additional')\n",
    "    for i in range(len(users)):\n",
    "        users = browser.find_elements_by_class_name('trackItem__username')\n",
    "        if users[i].get_attribute('href'):\n",
    "            user_link = users[i].get_attribute('href')\n",
    "        else: \n",
    "            user_link = 'None'\n",
    "        #Tìm tên user\n",
    "        users = browser.find_elements_by_class_name('trackItem__username')\n",
    "        user_name = users[i].text\n",
    "        \n",
    "        #Tìm tên track\n",
    "        tracks = browser.find_elements_by_class_name('trackItem__trackTitle')\n",
    "        track_name = tracks[i].text\n",
    "\n",
    "        #Thêm vào playcount\n",
    "        \n",
    "        track_durations = browser.find_elements_by_class_name('playbackTimeline__duration')\n",
    "        \n",
    "        #Loại trường hợp 'Not available in Viet Nam'\n",
    "        if len(playcounts[i].text) < 10:\n",
    "            if track_durations[0].text:\n",
    "                track_duration = str(track_durations[0].text.split('\\n')[1])\n",
    "            else:\n",
    "                track_duration = 'None'\n",
    "                \n",
    "            playcounts = browser.find_elements_by_class_name('trackItem__additional')\n",
    "            playcount = playcounts[i].text\n",
    "            f.write(f'{user_name},{user_link},{track_name},{playcount},{track_duration}\\n')\n",
    "            browser.find_elements_by_class_name('skipControl__next')[0].click()\n",
    "            time.sleep(PAUSE_TIME)\n",
    "        else:\n",
    "            print(i)\n",
    "            playcount = 'None'\n",
    "            track_duration = 'None'\n",
    "            f.write(f'{user_name},{user_link},{track_name},{playcount},{track_duration}\\n')\n",
    "          \n",
    "    f.close()"
   ]
  },
  {
   "cell_type": "code",
   "execution_count": 239,
   "metadata": {},
   "outputs": [
    {
     "name": "stdout",
     "output_type": "stream",
     "text": [
      "0\n",
      "20.62432289123535\n"
     ]
    }
   ],
   "source": [
    "link = 'https://soundcloud.com/tb3dvuqu1ugs/sets/nightynight'\n",
    "user_links = []\n",
    "user_list = []\n",
    "track_list = []\n",
    "playcount_list = []\n",
    "duration_list = []\n",
    "\n",
    "start = time.time()\n",
    "get_playlist_info('abcd.csv', browser, link)\n",
    "print(time.time() - start)"
   ]
  },
  {
   "cell_type": "code",
   "execution_count": 30,
   "metadata": {
    "scrolled": true
   },
   "outputs": [],
   "source": [
    "#Run\n",
    "f = open('link_playlists.txt', 'r')\n",
    "user_links = []\n",
    "user_list = []\n",
    "track_list = []\n",
    "playcount_list = []\n",
    "duration_list = []\n",
    "\n",
    "t = 0\n",
    "for link in f:\n",
    "    get_playlist_info(browser, link ,user_list, user_links, track_list, playcount_list, duration_list)\n",
    "    if t == 10:\n",
    "        break\n",
    "    t+=1\n",
    "f.close()"
   ]
  },
  {
   "cell_type": "code",
   "execution_count": 47,
   "metadata": {},
   "outputs": [
    {
     "data": {
      "text/plain": [
       "181"
      ]
     },
     "execution_count": 47,
     "metadata": {},
     "output_type": "execute_result"
    }
   ],
   "source": [
    "s = duration_list\n",
    "len(s)"
   ]
  },
  {
   "cell_type": "code",
   "execution_count": 175,
   "metadata": {},
   "outputs": [
    {
     "data": {
      "text/html": [
       "<div>\n",
       "<style scoped>\n",
       "    .dataframe tbody tr th:only-of-type {\n",
       "        vertical-align: middle;\n",
       "    }\n",
       "\n",
       "    .dataframe tbody tr th {\n",
       "        vertical-align: top;\n",
       "    }\n",
       "\n",
       "    .dataframe thead th {\n",
       "        text-align: right;\n",
       "    }\n",
       "</style>\n",
       "<table border=\"1\" class=\"dataframe\">\n",
       "  <thead>\n",
       "    <tr style=\"text-align: right;\">\n",
       "      <th></th>\n",
       "      <th>Track</th>\n",
       "      <th>User name</th>\n",
       "      <th>User link</th>\n",
       "      <th>Playcount</th>\n",
       "      <th>Duration</th>\n",
       "    </tr>\n",
       "  </thead>\n",
       "  <tbody>\n",
       "    <tr>\n",
       "      <th>166</th>\n",
       "      <td>Rvssian, Lil Mosey, Lil Tjay - Only The Team (...</td>\n",
       "      <td>Rvssian</td>\n",
       "      <td>https://soundcloud.com/rvssianofficial</td>\n",
       "      <td>15M</td>\n",
       "      <td>2:34</td>\n",
       "    </tr>\n",
       "    <tr>\n",
       "      <th>167</th>\n",
       "      <td>John Mayer - Slow Dancing In A Burning Room (D...</td>\n",
       "      <td>DECADON</td>\n",
       "      <td>https://soundcloud.com/decadon</td>\n",
       "      <td>210K</td>\n",
       "      <td>5:02</td>\n",
       "    </tr>\n",
       "    <tr>\n",
       "      <th>168</th>\n",
       "      <td>Disclosure - Latch (DJ Premier Remix)</td>\n",
       "      <td>pmrrecords</td>\n",
       "      <td>https://soundcloud.com/pmrrecords</td>\n",
       "      <td>3.3M</td>\n",
       "      <td>3:26</td>\n",
       "    </tr>\n",
       "    <tr>\n",
       "      <th>169</th>\n",
       "      <td>Flume - Rushing Back (feat. Vera Blue) [Pardi ...</td>\n",
       "      <td>Pardi</td>\n",
       "      <td>https://soundcloud.com/pardiofficial</td>\n",
       "      <td>5,627</td>\n",
       "      <td>3:32</td>\n",
       "    </tr>\n",
       "    <tr>\n",
       "      <th>170</th>\n",
       "      <td>The Less I Know the Crave You (A L E J A N D R...</td>\n",
       "      <td>A L E J A N D R O</td>\n",
       "      <td>https://soundcloud.com/alejandro-sdv</td>\n",
       "      <td>35.2K</td>\n",
       "      <td>3:56</td>\n",
       "    </tr>\n",
       "    <tr>\n",
       "      <th>171</th>\n",
       "      <td>Stroking</td>\n",
       "      <td>Arthur Young</td>\n",
       "      <td>https://soundcloud.com/arthuryoungofficial</td>\n",
       "      <td>407</td>\n",
       "      <td>3:56</td>\n",
       "    </tr>\n",
       "    <tr>\n",
       "      <th>172</th>\n",
       "      <td>DJ Affilination - Leftovers</td>\n",
       "      <td>King Records</td>\n",
       "      <td>https://soundcloud.com/minnesota-king-records</td>\n",
       "      <td>16K</td>\n",
       "      <td>3:06</td>\n",
       "    </tr>\n",
       "    <tr>\n",
       "      <th>173</th>\n",
       "      <td>pronouncedyea feat. David Blake - World On Fire</td>\n",
       "      <td>pronouncedyea</td>\n",
       "      <td>https://soundcloud.com/pronouncedyea</td>\n",
       "      <td>39.3K</td>\n",
       "      <td>3:06</td>\n",
       "    </tr>\n",
       "    <tr>\n",
       "      <th>174</th>\n",
       "      <td>Two Feet - Go Fuck Yourself (Kayfluxx Dub Remake)</td>\n",
       "      <td>Kayfluxx</td>\n",
       "      <td>https://soundcloud.com/kayfluxx</td>\n",
       "      <td>821</td>\n",
       "      <td>3:15</td>\n",
       "    </tr>\n",
       "    <tr>\n",
       "      <th>175</th>\n",
       "      <td>I Met A Boy - Winona Oak(Kayfluxx Remix)</td>\n",
       "      <td>Kayfluxx</td>\n",
       "      <td>https://soundcloud.com/kayfluxx</td>\n",
       "      <td>23.4K</td>\n",
       "      <td>3:04</td>\n",
       "    </tr>\n",
       "    <tr>\n",
       "      <th>176</th>\n",
       "      <td>Big Gigantic and CloZee featuring Nevve - You’...</td>\n",
       "      <td>Big Gigantic</td>\n",
       "      <td>https://soundcloud.com/biggigantic</td>\n",
       "      <td>56.3K</td>\n",
       "      <td>3:04</td>\n",
       "    </tr>\n",
       "    <tr>\n",
       "      <th>177</th>\n",
       "      <td>Flux Pavilion &amp; Matthew Koma - Emotional (VISU...</td>\n",
       "      <td>VISUS</td>\n",
       "      <td>https://soundcloud.com/visusofficial</td>\n",
       "      <td>78.8K</td>\n",
       "      <td>4:49</td>\n",
       "    </tr>\n",
       "    <tr>\n",
       "      <th>178</th>\n",
       "      <td>Skydive</td>\n",
       "      <td>BoogieOfficial</td>\n",
       "      <td>https://soundcloud.com/boogieofficial</td>\n",
       "      <td>470K</td>\n",
       "      <td>4:49</td>\n",
       "    </tr>\n",
       "    <tr>\n",
       "      <th>179</th>\n",
       "      <td>MK - 17 (Radio Edit)</td>\n",
       "      <td>Deepish House</td>\n",
       "      <td>https://soundcloud.com/deepish-house</td>\n",
       "      <td>3.82M</td>\n",
       "      <td>3:41</td>\n",
       "    </tr>\n",
       "    <tr>\n",
       "      <th>180</th>\n",
       "      <td>Dion Timmer - Can't Believe You Love Me</td>\n",
       "      <td>лабуд нежный 🦢</td>\n",
       "      <td>https://soundcloud.com/labud_njezni</td>\n",
       "      <td>51.2K</td>\n",
       "      <td>2:21</td>\n",
       "    </tr>\n",
       "  </tbody>\n",
       "</table>\n",
       "</div>"
      ],
      "text/plain": [
       "                                                 Track          User name  \\\n",
       "166  Rvssian, Lil Mosey, Lil Tjay - Only The Team (...            Rvssian   \n",
       "167  John Mayer - Slow Dancing In A Burning Room (D...            DECADON   \n",
       "168              Disclosure - Latch (DJ Premier Remix)         pmrrecords   \n",
       "169  Flume - Rushing Back (feat. Vera Blue) [Pardi ...              Pardi   \n",
       "170  The Less I Know the Crave You (A L E J A N D R...  A L E J A N D R O   \n",
       "171                                           Stroking       Arthur Young   \n",
       "172                        DJ Affilination - Leftovers       King Records   \n",
       "173    pronouncedyea feat. David Blake - World On Fire      pronouncedyea   \n",
       "174  Two Feet - Go Fuck Yourself (Kayfluxx Dub Remake)           Kayfluxx   \n",
       "175           I Met A Boy - Winona Oak(Kayfluxx Remix)           Kayfluxx   \n",
       "176  Big Gigantic and CloZee featuring Nevve - You’...       Big Gigantic   \n",
       "177  Flux Pavilion & Matthew Koma - Emotional (VISU...              VISUS   \n",
       "178                                            Skydive     BoogieOfficial   \n",
       "179                               MK - 17 (Radio Edit)      Deepish House   \n",
       "180            Dion Timmer - Can't Believe You Love Me     лабуд нежный 🦢   \n",
       "\n",
       "                                         User link Playcount Duration  \n",
       "166         https://soundcloud.com/rvssianofficial       15M     2:34  \n",
       "167                 https://soundcloud.com/decadon      210K     5:02  \n",
       "168              https://soundcloud.com/pmrrecords      3.3M     3:26  \n",
       "169           https://soundcloud.com/pardiofficial     5,627     3:32  \n",
       "170           https://soundcloud.com/alejandro-sdv     35.2K     3:56  \n",
       "171     https://soundcloud.com/arthuryoungofficial       407     3:56  \n",
       "172  https://soundcloud.com/minnesota-king-records       16K     3:06  \n",
       "173           https://soundcloud.com/pronouncedyea     39.3K     3:06  \n",
       "174                https://soundcloud.com/kayfluxx       821     3:15  \n",
       "175                https://soundcloud.com/kayfluxx     23.4K     3:04  \n",
       "176             https://soundcloud.com/biggigantic     56.3K     3:04  \n",
       "177           https://soundcloud.com/visusofficial     78.8K     4:49  \n",
       "178          https://soundcloud.com/boogieofficial      470K     4:49  \n",
       "179           https://soundcloud.com/deepish-house     3.82M     3:41  \n",
       "180            https://soundcloud.com/labud_njezni     51.2K     2:21  "
      ]
     },
     "execution_count": 175,
     "metadata": {},
     "output_type": "execute_result"
    }
   ],
   "source": [
    "data_tuples = list(zip(track_list, user_list, user_links, playcount_list, duration_list))\n",
    "df = pd.DataFrame(data_tuples, columns=['Track','User name', 'User link', 'Playcount', 'Duration'])\n",
    "# df.reset_index(inplace=True)\n",
    "# df = df.rename(columns = {'index':'TrackID'})\n",
    "df.to_csv(\"test.csv\", encoding='utf-8', index = None)\n",
    "df.tail(15)"
   ]
  },
  {
   "cell_type": "code",
   "execution_count": 228,
   "metadata": {},
   "outputs": [
    {
     "data": {
      "text/plain": [
       "True"
      ]
     },
     "execution_count": 228,
     "metadata": {},
     "output_type": "execute_result"
    }
   ],
   "source": [
    "link = 'https://soundcloud.com/digitalstreams/sets/saxxyhouse'\n",
    "browser.get(link)\n",
    "scrollDownAllTheWay(browser)"
   ]
  },
  {
   "cell_type": "markdown",
   "metadata": {},
   "source": [
    "### Tiền xử lý:"
   ]
  },
  {
   "cell_type": "markdown",
   "metadata": {},
   "source": [
    "- Tách tên ca sĩ và tên track trong track_list:"
   ]
  },
  {
   "cell_type": "code",
   "execution_count": 40,
   "metadata": {},
   "outputs": [
    {
     "data": {
      "text/plain": [
       "1"
      ]
     },
     "execution_count": 40,
     "metadata": {},
     "output_type": "execute_result"
    }
   ],
   "source": [
    "a_string = 'How Hard I Try ft. James Hersey'\n",
    "len(a_string.split('-'))\n",
    "# if a_string.split('-')[1]:\n",
    "#     print(\"duma\")"
   ]
  },
  {
   "cell_type": "markdown",
   "metadata": {},
   "source": [
    "### Đọc dữ liệu từ file csv vào dataframe"
   ]
  },
  {
   "cell_type": "code",
   "execution_count": null,
   "metadata": {},
   "outputs": [],
   "source": []
  },
  {
   "cell_type": "markdown",
   "metadata": {},
   "source": [
    "## 2/ Tiền xử lý:"
   ]
  },
  {
   "cell_type": "code",
   "execution_count": null,
   "metadata": {},
   "outputs": [],
   "source": [
    "        #Tiền xử lý:\n",
    "#         if len(i_track.text.split('-')) > 1:\n",
    "#             singer = i_track.text.split('-')[0]\n",
    "#             track = i_track.text.split('-')[1]\n",
    "#         else: \n",
    "#             singer = 0\n",
    "#             track = i_track.text\n",
    "#         singer_list.append(singer)"
   ]
  }
 ],
 "metadata": {
  "kernelspec": {
   "display_name": "Python 3",
   "language": "python",
   "name": "python3"
  },
  "language_info": {
   "codemirror_mode": {
    "name": "ipython",
    "version": 3
   },
   "file_extension": ".py",
   "mimetype": "text/x-python",
   "name": "python",
   "nbconvert_exporter": "python",
   "pygments_lexer": "ipython3",
   "version": "3.7.6"
  }
 },
 "nbformat": 4,
 "nbformat_minor": 4
}
